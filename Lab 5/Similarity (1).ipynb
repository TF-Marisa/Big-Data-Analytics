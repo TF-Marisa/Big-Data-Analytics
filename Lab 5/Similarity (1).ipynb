{
  "cells": [
    {
      "cell_type": "markdown",
      "metadata": {
        "id": "vrgbC_YoV9yV"
      },
      "source": [
        "# Similarity"
      ]
    },
    {
      "cell_type": "markdown",
      "metadata": {
        "id": "29vvyczzV9yZ"
      },
      "source": [
        "We will work on applying similarity: Jaccard and Cosine similarity. This exercise is a simple application of the lecture."
      ]
    },
    {
      "cell_type": "markdown",
      "metadata": {
        "id": "MjfagvatV9ya"
      },
      "source": [
        "Begin by importing the needed libraries:"
      ]
    },
    {
      "cell_type": "code",
      "execution_count": 1,
      "metadata": {
        "id": "W2BewpdiV9yb"
      },
      "outputs": [],
      "source": [
        "# import needed libraries\n",
        "import nltk\n",
        "import numpy as np\n",
        "import pandas as pd"
      ]
    },
    {
      "cell_type": "markdown",
      "metadata": {
        "id": "NgDWbjm-V9yd"
      },
      "source": [
        "We will work with the following examples:"
      ]
    },
    {
      "cell_type": "code",
      "execution_count": 3,
      "metadata": {
        "id": "-YLZTu52V9yd"
      },
      "outputs": [],
      "source": [
        "A = \"Outside the classroom, Stallman pursued his studies with even more diligence, rushing off to fulfill his laboratory-assistant duties at Rockefeller University during the week and dodging the Vietnam protesters on his way to Saturday school at Columbia. It was there, while the rest of the Science Honors Program students sat around discussing their college choices, that Stallman finally took a moment to participate in the preclass bull session.\"\n",
        "B = \"To facilitate the process, AI Lab hackers had built a system that displayed both the source and display modes on a split screen. Despite this innovative hack, switching from mode to mode was still a nuisance.\"\n",
        "C = \"With no dorm and no dancing, Stallman's social universe imploded. Like an astronaut experiencing the aftereffects of zero-gravity, Stallman found that his ability to interact with nonhackers, especially female nonhackers, had atrophied significantly. After 16 weeks in the AI Lab, the self confidence he'd been quietly accumulating during his 4 years at Harvard was virtually gone.\""
      ]
    },
    {
      "cell_type": "markdown",
      "metadata": {
        "id": "iB1Yk6L_V9ye"
      },
      "source": [
        "Begin by computing the Jaccard Similarity J of all possibilities:\n",
        "* J(A, B)\n",
        "* J(B, C)\n",
        "* J(A, C)"
      ]
    },
    {
      "cell_type": "code",
      "execution_count": 4,
      "metadata": {
        "colab": {
          "base_uri": "https://localhost:8080/"
        },
        "id": "Jtpq_vv8V9ye",
        "outputId": "85802c84-40b1-4e0c-c112-155244b7d3a6"
      },
      "outputs": [
        {
          "output_type": "stream",
          "name": "stdout",
          "text": [
            "Jaccard Similarity between A and B: 0.08641975308641975\n",
            "Jaccard Similarity between B and C: 0.0945945945945946\n",
            "Jaccard Similarity between A and C: 0.12631578947368421\n"
          ]
        }
      ],
      "source": [
        "# TODO: compute the Jaccard similarities\n",
        "\n",
        "# Split the sentences into sets of words\n",
        "words_A = set(A.lower().split())\n",
        "words_B = set(B.lower().split())\n",
        "words_C = set(C.lower().split())\n",
        "\n",
        "# Compute the intersection and union\n",
        "intersection_AB = words_A.intersection(words_B)\n",
        "intersection_BC = words_B.intersection(words_C)\n",
        "intersection_AC = words_A.intersection(words_C)\n",
        "\n",
        "union_AB = words_A.union(words_B)\n",
        "union_BC = words_B.union(words_C)\n",
        "union_AC = words_A.union(words_C)\n",
        "\n",
        "# Compute and print the Jaccard Similarity\n",
        "jaccard_AB = len(intersection_AB) / len(union_AB)\n",
        "jaccard_BC = len(intersection_BC) / len(union_BC)\n",
        "jaccard_AC = len(intersection_AC) / len(union_AC)\n",
        "\n",
        "print(\"Jaccard Similarity between A and B:\", jaccard_AB)\n",
        "print(\"Jaccard Similarity between B and C:\", jaccard_BC)\n",
        "print(\"Jaccard Similarity between A and C:\", jaccard_AC)\n"
      ]
    },
    {
      "cell_type": "markdown",
      "metadata": {
        "id": "aP0DDKxwV9yg"
      },
      "source": [
        "What are the closest to the other according to Jaccard Similarity?\n",
        "\n",
        "Now let's do the same using TF-IDF and Cosine Similarity. Compute the TF-IDF and cosine similarities and print them."
      ]
    },
    {
      "cell_type": "code",
      "execution_count": 5,
      "metadata": {
        "scrolled": true,
        "colab": {
          "base_uri": "https://localhost:8080/"
        },
        "id": "tH69c0G_V9yg",
        "outputId": "c6ddf559-257b-4939-a266-5f70bc89dcac"
      },
      "outputs": [
        {
          "output_type": "stream",
          "name": "stdout",
          "text": [
            "TF-IDF of A, B, and C:\n",
            "[[0.         0.         0.         0.         0.         0.\n",
            "  0.         0.06890563 0.11666737 0.11666737 0.         0.17745708\n",
            "  0.         0.         0.         0.         0.11666737 0.11666737\n",
            "  0.11666737 0.11666737 0.11666737 0.         0.         0.\n",
            "  0.11666737 0.11666737 0.         0.         0.11666737 0.\n",
            "  0.08872854 0.11666737 0.         0.11666737 0.         0.\n",
            "  0.         0.11666737 0.         0.         0.11666737 0.\n",
            "  0.         0.         0.         0.         0.         0.\n",
            "  0.26618562 0.11666737 0.         0.08872854 0.         0.\n",
            "  0.11666737 0.         0.11666737 0.         0.         0.\n",
            "  0.11666737 0.11666737 0.         0.         0.         0.08872854\n",
            "  0.11666737 0.08872854 0.11666737 0.11666737 0.11666737 0.\n",
            "  0.11666737 0.11666737 0.11666737 0.         0.11666737 0.11666737\n",
            "  0.11666737 0.11666737 0.11666737 0.11666737 0.11666737 0.\n",
            "  0.         0.11666737 0.         0.         0.         0.\n",
            "  0.17745708 0.         0.11666737 0.11666737 0.         0.\n",
            "  0.06890563 0.41343377 0.11666737 0.11666737 0.         0.20671688\n",
            "  0.11666737 0.         0.11666737 0.11666737 0.         0.06890563\n",
            "  0.11666737 0.11666737 0.         0.11666737 0.08872854 0.\n",
            "  0.        ]\n",
            " [0.         0.         0.         0.         0.         0.13850493\n",
            "  0.         0.10756144 0.         0.         0.         0.\n",
            "  0.         0.         0.18211734 0.18211734 0.         0.\n",
            "  0.         0.         0.         0.         0.         0.18211734\n",
            "  0.         0.         0.18211734 0.18211734 0.         0.\n",
            "  0.         0.         0.         0.         0.         0.18211734\n",
            "  0.         0.         0.         0.18211734 0.         0.\n",
            "  0.         0.18211734 0.18211734 0.13850493 0.         0.\n",
            "  0.         0.         0.         0.         0.18211734 0.\n",
            "  0.         0.13850493 0.         0.         0.36423469 0.18211734\n",
            "  0.         0.         0.         0.         0.18211734 0.\n",
            "  0.         0.13850493 0.         0.         0.         0.18211734\n",
            "  0.         0.         0.         0.         0.         0.\n",
            "  0.         0.         0.         0.         0.         0.18211734\n",
            "  0.         0.         0.         0.         0.18211734 0.18211734\n",
            "  0.         0.18211734 0.         0.         0.18211734 0.18211734\n",
            "  0.10756144 0.21512287 0.         0.         0.18211734 0.21512287\n",
            "  0.         0.         0.         0.         0.         0.10756144\n",
            "  0.         0.         0.         0.         0.         0.\n",
            "  0.        ]\n",
            " [0.13420178 0.13420178 0.13420178 0.13420178 0.13420178 0.10206391\n",
            "  0.13420178 0.07926173 0.         0.         0.13420178 0.10206391\n",
            "  0.13420178 0.13420178 0.         0.         0.         0.\n",
            "  0.         0.         0.         0.13420178 0.13420178 0.\n",
            "  0.         0.         0.         0.         0.         0.13420178\n",
            "  0.10206391 0.         0.13420178 0.         0.13420178 0.\n",
            "  0.13420178 0.         0.13420178 0.         0.         0.13420178\n",
            "  0.13420178 0.         0.         0.10206391 0.13420178 0.13420178\n",
            "  0.20412783 0.         0.13420178 0.10206391 0.         0.13420178\n",
            "  0.         0.10206391 0.         0.13420178 0.         0.\n",
            "  0.         0.         0.26840356 0.26840356 0.         0.10206391\n",
            "  0.         0.         0.         0.         0.         0.\n",
            "  0.         0.         0.         0.13420178 0.         0.\n",
            "  0.         0.         0.         0.         0.         0.\n",
            "  0.13420178 0.         0.13420178 0.13420178 0.         0.\n",
            "  0.20412783 0.         0.         0.         0.         0.\n",
            "  0.07926173 0.2377852  0.         0.         0.         0.07926173\n",
            "  0.         0.13420178 0.         0.         0.13420178 0.07926173\n",
            "  0.         0.         0.13420178 0.         0.20412783 0.13420178\n",
            "  0.13420178]]\n",
            "\n",
            "Cosine Similarity between A and B: 0.16793269576264072\n",
            "Cosine Similarity between B and C: 0.13618963113796592\n",
            "Cosine Similarity between A and C: 0.2850296032333907\n"
          ]
        }
      ],
      "source": [
        "# TODO: compute the TF-IDF of A, B and C and the cosine similarities of all possibilities\n",
        "from sklearn.feature_extraction.text import TfidfVectorizer\n",
        "from sklearn.metrics.pairwise import cosine_similarity\n",
        "\n",
        "vectorizer = TfidfVectorizer()\n",
        "\n",
        "tfidf_matrix = vectorizer.fit_transform([A, B, C])\n",
        "\n",
        "cosine_sim_AB = cosine_similarity(tfidf_matrix[0], tfidf_matrix[1])[0][0]\n",
        "cosine_sim_BC = cosine_similarity(tfidf_matrix[1], tfidf_matrix[2])[0][0]\n",
        "cosine_sim_AC = cosine_similarity(tfidf_matrix[0], tfidf_matrix[2])[0][0]\n",
        "\n",
        "print(\"TF-IDF of A, B, and C:\")\n",
        "print(tfidf_matrix.toarray())\n",
        "print(\"\\nCosine Similarity between A and B:\", cosine_sim_AB)\n",
        "print(\"Cosine Similarity between B and C:\", cosine_sim_BC)\n",
        "print(\"Cosine Similarity between A and C:\", cosine_sim_AC)\n"
      ]
    },
    {
      "cell_type": "markdown",
      "metadata": {
        "id": "TNUB_FC4V9yh"
      },
      "source": [
        "Is it consistent with the Jaccard values?"
      ]
    }
  ],
  "metadata": {
    "kernelspec": {
      "display_name": "Python 3 (ipykernel)",
      "language": "python",
      "name": "python3"
    },
    "language_info": {
      "codemirror_mode": {
        "name": "ipython",
        "version": 3
      },
      "file_extension": ".py",
      "mimetype": "text/x-python",
      "name": "python",
      "nbconvert_exporter": "python",
      "pygments_lexer": "ipython3",
      "version": "3.9.7"
    },
    "toc": {
      "base_numbering": 1,
      "nav_menu": {},
      "number_sections": true,
      "sideBar": true,
      "skip_h1_title": false,
      "title_cell": "Table of Contents",
      "title_sidebar": "Contents",
      "toc_cell": false,
      "toc_position": {},
      "toc_section_display": true,
      "toc_window_display": false
    },
    "colab": {
      "provenance": []
    }
  },
  "nbformat": 4,
  "nbformat_minor": 0
}
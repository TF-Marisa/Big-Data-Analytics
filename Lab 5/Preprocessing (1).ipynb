{
  "cells": [
    {
      "cell_type": "markdown",
      "metadata": {
        "id": "tg58Ub7fCm4m"
      },
      "source": [
        "# 01-Preprocessing"
      ]
    },
    {
      "cell_type": "markdown",
      "metadata": {
        "id": "gfbuCpB3Cm4p"
      },
      "source": [
        "The first NLP exercise is about preprocessing.\n",
        "\n",
        "You will practice preprocessing using NLTK on raw data.\n",
        "This is the first step in most of the NLP projects, so you have to master it."
      ]
    },
    {
      "cell_type": "markdown",
      "metadata": {
        "id": "F7jFs9KMCm4p"
      },
      "source": [
        "We will play with the *coldplay.csv* dataset, containing all the songs and lyrics of Coldplay."
      ]
    },
    {
      "cell_type": "markdown",
      "metadata": {
        "id": "-0hlDpeDCm4q"
      },
      "source": [
        "As you know, the first step is to import some libraries. So import *nltk* as well as all the libraries you will need."
      ]
    },
    {
      "cell_type": "code",
      "execution_count": 28,
      "metadata": {
        "colab": {
          "base_uri": "https://localhost:8080/"
        },
        "id": "T0dLp32DCm4q",
        "outputId": "4a0f3d7e-eb99-4c04-c898-1110bebf5d43"
      },
      "outputs": [
        {
          "output_type": "stream",
          "name": "stderr",
          "text": [
            "[nltk_data] Downloading package punkt to /root/nltk_data...\n",
            "[nltk_data]   Package punkt is already up-to-date!\n",
            "[nltk_data] Downloading package stopwords to /root/nltk_data...\n",
            "[nltk_data]   Package stopwords is already up-to-date!\n",
            "[nltk_data] Downloading package wordnet to /root/nltk_data...\n",
            "[nltk_data]   Package wordnet is already up-to-date!\n",
            "[nltk_data] Downloading package averaged_perceptron_tagger to\n",
            "[nltk_data]     /root/nltk_data...\n",
            "[nltk_data]   Package averaged_perceptron_tagger is already up-to-\n",
            "[nltk_data]       date!\n"
          ]
        }
      ],
      "source": [
        "# Import NLTK and all the needed libraries\n",
        "import nltk\n",
        "nltk.download('punkt') #Run this line one time to get the resource\n",
        "nltk.download('stopwords') #Run this line one time to get the resource\n",
        "nltk.download('wordnet') #Run this line one time to get the resource\n",
        "nltk.download('averaged_perceptron_tagger') #Run this line one time to get the resource\n",
        "import numpy as np\n",
        "import pandas as pd"
      ]
    },
    {
      "cell_type": "markdown",
      "metadata": {
        "id": "m8NvYTWSCm4s"
      },
      "source": [
        "Load now the dataset using pandas."
      ]
    },
    {
      "cell_type": "code",
      "execution_count": 29,
      "metadata": {
        "colab": {
          "base_uri": "https://localhost:8080/"
        },
        "id": "fV0aQu4UCm4s",
        "outputId": "70119373-a065-4fbf-bb67-5b5b3e5e3ad1"
      },
      "outputs": [
        {
          "output_type": "stream",
          "name": "stdout",
          "text": [
            "     Artist                           Song  \\\n",
            "0  Coldplay                 Another's Arms   \n",
            "1  Coldplay                Bigger Stronger   \n",
            "2  Coldplay                       Daylight   \n",
            "3  Coldplay                       Everglow   \n",
            "4  Coldplay  Every Teardrop Is A Waterfall   \n",
            "\n",
            "                                                Link  \\\n",
            "0            /c/coldplay/anothers+arms_21079526.html   \n",
            "1          /c/coldplay/bigger+stronger_20032648.html   \n",
            "2                 /c/coldplay/daylight_20032625.html   \n",
            "3                 /c/coldplay/everglow_21104546.html   \n",
            "4  /c/coldplay/every+teardrop+is+a+waterfall_2091...   \n",
            "\n",
            "                                              Lyrics  \n",
            "0  Late night watching tv  \\nUsed to be you here ...  \n",
            "1  I want to be bigger stronger drive a faster ca...  \n",
            "2  To my surprise, and my delight  \\nI saw sunris...  \n",
            "3  Oh, they say people come  \\nThey say people go...  \n",
            "4  I turn the music up, I got my records on  \\nI ...  \n"
          ]
        }
      ],
      "source": [
        "# TODO: Load the dataset in coldplay.csv\n",
        "\n",
        "df = pd.read_csv('coldplay.csv')\n",
        "\n",
        "print(df.head())\n",
        "\n"
      ]
    },
    {
      "cell_type": "markdown",
      "metadata": {
        "id": "WHq5uJW7Cm4s"
      },
      "source": [
        "Now, check the dataset, play with it a bit: what are the columns? How many lines? Is there missing data?..."
      ]
    },
    {
      "cell_type": "code",
      "execution_count": 30,
      "metadata": {
        "colab": {
          "base_uri": "https://localhost:8080/"
        },
        "id": "Jp1XPjrnCm4t",
        "outputId": "50a7b712-51ee-4afd-cc4b-bd553490c176"
      },
      "outputs": [
        {
          "output_type": "stream",
          "name": "stdout",
          "text": [
            "<class 'pandas.core.frame.DataFrame'>\n",
            "RangeIndex: 120 entries, 0 to 119\n",
            "Data columns (total 4 columns):\n",
            " #   Column  Non-Null Count  Dtype \n",
            "---  ------  --------------  ----- \n",
            " 0   Artist  120 non-null    object\n",
            " 1   Song    120 non-null    object\n",
            " 2   Link    120 non-null    object\n",
            " 3   Lyrics  120 non-null    object\n",
            "dtypes: object(4)\n",
            "memory usage: 3.9+ KB\n"
          ]
        }
      ],
      "source": [
        "# TODO: Explore the data\n",
        "\n",
        "df.info()"
      ]
    },
    {
      "cell_type": "markdown",
      "metadata": {
        "id": "XL9nfirgCm4t"
      },
      "source": [
        "Now select the song 'Every Teardrop Is A Waterfall' and save the Lyrics text into a variable. Print the output of this variable."
      ]
    },
    {
      "cell_type": "code",
      "execution_count": 31,
      "metadata": {
        "colab": {
          "base_uri": "https://localhost:8080/"
        },
        "id": "KdIE9ZcaCm4t",
        "outputId": "99218929-edf6-49d4-b447-4cc6dd67eab4"
      },
      "outputs": [
        {
          "output_type": "stream",
          "name": "stdout",
          "text": [
            "     Artist                           Song  \\\n",
            "4  Coldplay  Every Teardrop Is A Waterfall   \n",
            "\n",
            "                                                Link  \\\n",
            "4  /c/coldplay/every+teardrop+is+a+waterfall_2091...   \n",
            "\n",
            "                                              Lyrics  \n",
            "4  I turn the music up, I got my records on  \\nI ...  \n"
          ]
        }
      ],
      "source": [
        "# TODO: Select the song 'Every Teardrop Is A Waterfall'\n",
        "\n",
        "song_name = 'Every Teardrop Is A Waterfall'\n",
        "\n",
        "tokens = word_tokenize(lyrics)\n",
        "\n",
        "print(selected_song)\n"
      ]
    },
    {
      "cell_type": "markdown",
      "metadata": {
        "id": "ouVLm3uaCm4t"
      },
      "source": [
        "As you can see, there is some preprocessing needed here. So let's do it! What is usually the first step?"
      ]
    },
    {
      "cell_type": "markdown",
      "metadata": {
        "id": "kBXBY3EfCm4u"
      },
      "source": [
        "Tokenization, yes. So do tokenization on the lyrics of Every Teardrop Is A Waterfall.\n",
        "\n",
        "So you may have to import the needed library from NLTK if you did not yet.\n",
        "\n",
        "Be careful, the output you have from your pandas dataframe may not have the right type, so manipulate it wisely to get a string."
      ]
    },
    {
      "cell_type": "code",
      "execution_count": 32,
      "metadata": {
        "colab": {
          "base_uri": "https://localhost:8080/"
        },
        "id": "jWKvcor6Cm4u",
        "outputId": "dae79c68-6965-4032-9377-360f359e8038"
      },
      "outputs": [
        {
          "output_type": "stream",
          "name": "stdout",
          "text": [
            "['I', 'turn', 'the', 'music', 'up', ',', 'I', 'got', 'my', 'records', 'on', ',', 'I', 'shut', 'the', 'world', 'outside', 'until', 'the', 'lights', 'come', 'on', '.']\n"
          ]
        }
      ],
      "source": [
        "# TODO: Tokenize the lyrics of the song and save the tokens into a variable and print it\n",
        "import nltk\n",
        "from nltk.tokenize import word_tokenize\n",
        "\n",
        "tokens = word_tokenize(lyrics)\n",
        "\n",
        "print(tokens)\n"
      ]
    },
    {
      "cell_type": "markdown",
      "metadata": {
        "id": "cPsGYCOOCm4u"
      },
      "source": [
        "It begins to look good. But still, we have the punctuation to remove, so let's do this."
      ]
    },
    {
      "cell_type": "code",
      "execution_count": 33,
      "metadata": {
        "colab": {
          "base_uri": "https://localhost:8080/"
        },
        "id": "iHv-BU-qCm4v",
        "outputId": "1908dd0b-8dfc-4858-8609-3a2e54439c6b"
      },
      "outputs": [
        {
          "output_type": "stream",
          "name": "stdout",
          "text": [
            "I turn the music up I got my records on I shut the world outside until the lights come on\n"
          ]
        }
      ],
      "source": [
        "# TODO: Remove the punctuation, then save the result into a variable and print it\n",
        "import string\n",
        "\n",
        "tokens = ['I', 'turn', 'the', 'music', 'up', ',', 'I', 'got', 'my', 'records', 'on', ',', 'I', 'shut', 'the', 'world', 'outside', 'until', 'the', 'lights', 'come', 'on', '.']\n",
        "\n",
        "tokens_no_punct = [word for word in tokens if word not in string.punctuation]\n",
        "\n",
        "lyrics_no_punct = ' '.join(tokens_no_punct)\n",
        "\n",
        "print(lyrics_no_punct)\n"
      ]
    },
    {
      "cell_type": "markdown",
      "metadata": {
        "id": "goLGtkW7Cm4v"
      },
      "source": [
        "We will now remove the stop words."
      ]
    },
    {
      "cell_type": "code",
      "execution_count": 36,
      "metadata": {
        "colab": {
          "base_uri": "https://localhost:8080/"
        },
        "id": "xDKEguSoCm4v",
        "outputId": "e6304a62-c76f-45d0-c2b2-bc9738e48d7f"
      },
      "outputs": [
        {
          "output_type": "stream",
          "name": "stdout",
          "text": [
            "turn music got records shut world outside lights come\n"
          ]
        },
        {
          "output_type": "stream",
          "name": "stderr",
          "text": [
            "[nltk_data] Downloading package stopwords to /root/nltk_data...\n",
            "[nltk_data]   Package stopwords is already up-to-date!\n"
          ]
        }
      ],
      "source": [
        "# TODO: remove the stop words using NLTK. Then put the result into a variable and print it\n",
        "from nltk.corpus import stopwords\n",
        "import nltk\n",
        "nltk.download('stopwords')\n",
        "\n",
        "tokens = ['I', 'turn', 'music', 'I', 'got', 'records', 'I', 'shut', 'world', 'outside', 'lights', 'come']\n",
        "\n",
        "stop_words = set(stopwords.words('english'))\n",
        "\n",
        "filtered_tokens = [word for word in tokens if word.lower() not in stop_words]\n",
        "\n",
        "lyrics_no_stopwords = ' '.join(filtered_tokens)\n",
        "\n",
        "print(lyrics_no_stopwords)\n",
        "\n"
      ]
    },
    {
      "cell_type": "markdown",
      "metadata": {
        "id": "UpAAO09bCm4v"
      },
      "source": [
        "Okay we begin to have much less words in our song, right?\n",
        "\n",
        "Next step is lemmatization. But we had an issue in the lectures, you remember? Let's learn how to do it properly now.\n",
        "\n",
        "First let's try to do it naively. Import the WordNetLemmatizer and perform lemmatization with default options."
      ]
    },
    {
      "cell_type": "code",
      "execution_count": 20,
      "metadata": {
        "colab": {
          "base_uri": "https://localhost:8080/"
        },
        "id": "VHxr3VpnCm4v",
        "outputId": "3c0a0532-f6ca-4fa3-99fc-ab26afb03da6"
      },
      "outputs": [
        {
          "output_type": "stream",
          "name": "stdout",
          "text": [
            "I turn music I got record I shut world outside light come\n"
          ]
        },
        {
          "output_type": "stream",
          "name": "stderr",
          "text": [
            "[nltk_data] Downloading package wordnet to /root/nltk_data...\n",
            "[nltk_data]   Package wordnet is already up-to-date!\n"
          ]
        }
      ],
      "source": [
        "# TODO: Perform lemmatization using WordNetLemmatizer on our tokens\n",
        "from nltk.stem import WordNetLemmatizer\n",
        "import nltk\n",
        "nltk.download('wordnet')\n",
        "\n",
        "# Sample tokens after removing stopwords (replace this with your actual tokens)\n",
        "tokens = ['I', 'turn', 'music', 'I', 'got', 'records', 'I', 'shut', 'world', 'outside', 'lights', 'come']\n",
        "\n",
        "lemmatizer = WordNetLemmatizer()\n",
        "\n",
        "lemmatized_tokens = [lemmatizer.lemmatize(word) for word in tokens]\n",
        "\n",
        "lemmatized_lyrics = ' '.join(lemmatized_tokens)\n",
        "\n",
        "print(lemmatized_lyrics)\n",
        "\n"
      ]
    },
    {
      "cell_type": "markdown",
      "metadata": {
        "id": "ZNRokwx_Cm4w"
      },
      "source": [
        "As you can see, it worked well on nouns (plural words are now singular for example).\n",
        "\n",
        "But verbs are not OK: we would 'is' to become 'be' for example.\n",
        "\n",
        "To do that, we need to do POS-tagging. So let's do this now."
      ]
    },
    {
      "cell_type": "markdown",
      "metadata": {
        "id": "v67CpuM_Cm4w"
      },
      "source": [
        "POS-tagging means Part of speech tagging: basically it will classify words into categories: like verbs, nouns, advers and so on...\n",
        "\n",
        "In order to do that, we will use NLTK and the function *pos_tag*. You have to do it on the step before lemmatization, so use your variable containing all the tokens without punctuation and without stop words.\n",
        "\n",
        "Hint: you can check on the internet how the *pos_tag* function works [here](https://www.nltk.org/book/ch05.html)"
      ]
    },
    {
      "cell_type": "code",
      "execution_count": 27,
      "metadata": {
        "colab": {
          "base_uri": "https://localhost:8080/"
        },
        "id": "5W5ozpheCm4w",
        "outputId": "849f5a6e-c4ab-420f-fe5d-4504c20d5dc1"
      },
      "outputs": [
        {
          "output_type": "stream",
          "name": "stdout",
          "text": [
            "[('I', 'PRP'), ('turn', 'VBP'), ('the', 'DT'), ('music', 'NN'), ('up', 'IN'), (',', ','), ('I', 'PRP'), ('got', 'VBD'), ('my', 'PRP$'), ('records', 'NNS'), ('on', 'IN'), (',', ','), ('I', 'PRP'), ('shut', 'VBP'), ('the', 'DT'), ('world', 'NN'), ('outside', 'IN'), ('until', 'IN'), ('the', 'DT'), ('lights', 'NNS'), ('come', 'VBP'), ('on', 'IN'), ('.', '.')]\n"
          ]
        },
        {
          "output_type": "stream",
          "name": "stderr",
          "text": [
            "[nltk_data] Downloading package averaged_perceptron_tagger to\n",
            "[nltk_data]     /root/nltk_data...\n",
            "[nltk_data]   Package averaged_perceptron_tagger is already up-to-\n",
            "[nltk_data]       date!\n"
          ]
        }
      ],
      "source": [
        "# TODO: use the function pos_tag of NLTK to perform POS-tagging and print the result\n",
        "import nltk\n",
        "from nltk import pos_tag\n",
        "from nltk.tokenize import word_tokenize\n",
        "nltk.download('averaged_perceptron_tagger')\n",
        "\n",
        "lyrics = \"I turn the music up, I got my records on, I shut the world outside until the lights come on.\"\n",
        "\n",
        "tokens = word_tokenize(lyrics)\n",
        "\n",
        "pos_tags = pos_tag(tokens)\n",
        "\n",
        "print(pos_tags)\n",
        "\n"
      ]
    },
    {
      "cell_type": "markdown",
      "metadata": {
        "id": "on0YCZ06Cm4x"
      },
      "source": [
        "As you can see, it does not return values like 'a', 'n', 'v' or 'r' as the WordNet lemmatizer is expecting...\n",
        "\n",
        "So we have to convert the values from the NLTK POS-tagging to put them into the WordNet Lemmatizer. This is done in the function *get_wordnet_pos* written below. Try to understand it, and then we will reuse it."
      ]
    },
    {
      "cell_type": "code",
      "execution_count": 24,
      "metadata": {
        "id": "ZCTO9MY8Cm4x"
      },
      "outputs": [],
      "source": [
        "from nltk.corpus import wordnet\n",
        "\n",
        "def get_wordnet_pos(pos_tag):\n",
        "    output = np.asarray(pos_tag)\n",
        "    for i in range(len(pos_tag)):\n",
        "        if pos_tag[i][1].startswith('J'):\n",
        "            output[i][1] = wordnet.ADJ\n",
        "        elif pos_tag[i][1].startswith('V'):\n",
        "            output[i][1] = wordnet.VERB\n",
        "        elif pos_tag[i][1].startswith('R'):\n",
        "            output[i][1] = wordnet.ADV\n",
        "        else:\n",
        "            output[i][1] = wordnet.NOUN\n",
        "    return output"
      ]
    },
    {
      "cell_type": "markdown",
      "metadata": {
        "id": "oImwCRhXCm4x"
      },
      "source": [
        "So now you have all we need to perform properly the lemmatization.\n",
        "\n",
        "So you have to use the following to do so:\n",
        "* your tags from the POS-tagging performed\n",
        "* the function *get_wordnet_pos*\n",
        "* the *WordNetLemmatizer*"
      ]
    },
    {
      "cell_type": "code",
      "execution_count": 25,
      "metadata": {
        "scrolled": true,
        "colab": {
          "base_uri": "https://localhost:8080/"
        },
        "id": "J-uNb_y3Cm4x",
        "outputId": "967ba384-f497-4b00-a7f5-8a274259bf90"
      },
      "outputs": [
        {
          "output_type": "stream",
          "name": "stdout",
          "text": [
            "I turn the music up , I get my record on , I shut the world outside until the light come on .\n"
          ]
        }
      ],
      "source": [
        "# TODO: Perform the lemmatization properly\n",
        "\n",
        "lyrics = \"I turn the music up, I got my records on, I shut the world outside until the lights come on.\"\n",
        "\n",
        "tokens = word_tokenize(lyrics)\n",
        "\n",
        "pos_tags = pos_tag(tokens)\n",
        "\n",
        "lemmatizer = WordNetLemmatizer()\n",
        "\n",
        "lemmatized_tokens = []\n",
        "for word, tag in pos_tags:\n",
        "    pos_tag = tag[0].lower()  # Convert the Penn Treebank POS tag to WordNet POS tag\n",
        "    pos_tag = pos_tag if pos_tag in ['a', 'n', 'v'] else 'n'  # Map POS tags\n",
        "    lemmatized_tokens.append(lemmatizer.lemmatize(word, pos=pos_tag))\n",
        "\n",
        "lemmatized_lyrics = ' '.join(lemmatized_tokens)\n",
        "\n",
        "print(lemmatized_lyrics)\n"
      ]
    },
    {
      "cell_type": "markdown",
      "metadata": {
        "id": "5Pn-_g2rCm4y"
      },
      "source": [
        "What do you think?\n",
        "\n",
        "Still not perfect, but it's the best we can do for now."
      ]
    },
    {
      "cell_type": "markdown",
      "metadata": {
        "id": "hXotGTWACm4y"
      },
      "source": [
        "Now you can try stemming, with the help of the lecture, and see the differences compared to the lemmatization"
      ]
    },
    {
      "cell_type": "code",
      "execution_count": 37,
      "metadata": {
        "colab": {
          "base_uri": "https://localhost:8080/"
        },
        "id": "rbhdeJ9DCm4y",
        "outputId": "664ccf35-99ed-4ec7-f5a9-5e09d6fe8068"
      },
      "outputs": [
        {
          "output_type": "stream",
          "name": "stdout",
          "text": [
            "i turn the music up , i got my record on , i shut the world outsid until the light come on .\n"
          ]
        },
        {
          "output_type": "stream",
          "name": "stderr",
          "text": [
            "[nltk_data] Downloading package punkt to /root/nltk_data...\n",
            "[nltk_data]   Package punkt is already up-to-date!\n"
          ]
        }
      ],
      "source": [
        "# TODO: Perform stemming\n",
        "from nltk.stem import PorterStemmer\n",
        "from nltk.tokenize import word_tokenize\n",
        "import nltk\n",
        "nltk.download('punkt')\n",
        "\n",
        "lyrics = \"I turn the music up, I got my records on, I shut the world outside until the lights come on.\"\n",
        "\n",
        "tokens = word_tokenize(lyrics)\n",
        "\n",
        "stemmer = PorterStemmer()\n",
        "\n",
        "stemmed_tokens = [stemmer.stem(token) for token in tokens]\n",
        "\n",
        "stemmed_lyrics = ' '.join(stemmed_tokens)\n",
        "\n",
        "print(stemmed_lyrics)\n"
      ]
    },
    {
      "cell_type": "markdown",
      "metadata": {
        "id": "KCm54aljCm4y"
      },
      "source": [
        "Do you see the difference? What would you use?"
      ]
    }
  ],
  "metadata": {
    "kernelspec": {
      "display_name": "Python 3 (ipykernel)",
      "language": "python",
      "name": "python3"
    },
    "language_info": {
      "codemirror_mode": {
        "name": "ipython",
        "version": 3
      },
      "file_extension": ".py",
      "mimetype": "text/x-python",
      "name": "python",
      "nbconvert_exporter": "python",
      "pygments_lexer": "ipython3",
      "version": "3.9.7"
    },
    "toc": {
      "base_numbering": 1,
      "nav_menu": {},
      "number_sections": true,
      "sideBar": true,
      "skip_h1_title": false,
      "title_cell": "Table of Contents",
      "title_sidebar": "Contents",
      "toc_cell": false,
      "toc_position": {},
      "toc_section_display": true,
      "toc_window_display": false
    },
    "colab": {
      "provenance": []
    }
  },
  "nbformat": 4,
  "nbformat_minor": 0
}
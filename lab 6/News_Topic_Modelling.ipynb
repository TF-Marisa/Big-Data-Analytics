{
  "cells": [
    {
      "cell_type": "markdown",
      "metadata": {
        "id": "FIrFTsxr5RiX"
      },
      "source": [
        "# Topic Modelling for News"
      ]
    },
    {
      "cell_type": "markdown",
      "metadata": {
        "id": "RUk7Oq-V5Rie"
      },
      "source": [
        "![](https://images.unsplash.com/photo-1495020689067-958852a7765e?ixlib=rb-1.2.1&ixid=eyJhcHBfaWQiOjEyMDd9&auto=format&fit=crop&w=1050&q=80)\n",
        "\n",
        "Photo by [Roman Kraft](https://unsplash.com/photos/_Zua2hyvTBk)"
      ]
    },
    {
      "cell_type": "markdown",
      "metadata": {
        "id": "WlxN5ztM5Rig"
      },
      "source": [
        "This exercise is about modelling the main topics of a database of News headlines."
      ]
    },
    {
      "cell_type": "markdown",
      "metadata": {
        "id": "iscI5gBK5Rih"
      },
      "source": [
        "Begin by importing the needed libraries:"
      ]
    },
    {
      "cell_type": "code",
      "execution_count": 2,
      "metadata": {
        "colab": {
          "base_uri": "https://localhost:8080/"
        },
        "id": "r8giPOez5Rik",
        "outputId": "fe42100a-b668-42bf-e65f-ad6d7dbb8d3b"
      },
      "outputs": [
        {
          "output_type": "stream",
          "name": "stderr",
          "text": [
            "[nltk_data] Downloading package punkt to /root/nltk_data...\n",
            "[nltk_data]   Unzipping tokenizers/punkt.zip.\n",
            "[nltk_data] Downloading package stopwords to /root/nltk_data...\n",
            "[nltk_data]   Unzipping corpora/stopwords.zip.\n",
            "[nltk_data] Downloading package wordnet to /root/nltk_data...\n"
          ]
        }
      ],
      "source": [
        "# TODO: import needed libraries\n",
        "import pandas as pd\n",
        "import nltk\n",
        "nltk.download('punkt')\n",
        "nltk.download('stopwords')\n",
        "nltk.download('wordnet')\n",
        "from nltk.corpus import stopwords\n",
        "from nltk.tokenize import word_tokenize\n",
        "from nltk.stem import PorterStemmer, WordNetLemmatizer\n",
        "import string\n",
        "\n",
        "\n"
      ]
    },
    {
      "cell_type": "markdown",
      "source": [
        "# New Section"
      ],
      "metadata": {
        "id": "IoZqWQw25j-i"
      }
    },
    {
      "cell_type": "markdown",
      "source": [
        "# New Section"
      ],
      "metadata": {
        "id": "XZZ3KPhZ5keZ"
      }
    },
    {
      "cell_type": "markdown",
      "metadata": {
        "id": "zTZTcU_E5Rin"
      },
      "source": [
        "Load the data in the file `random_headlines.csv`"
      ]
    },
    {
      "cell_type": "code",
      "execution_count": 3,
      "metadata": {
        "scrolled": true,
        "colab": {
          "base_uri": "https://localhost:8080/",
          "height": 423
        },
        "id": "3dl8PyRr5Rip",
        "outputId": "0e694a97-538d-40d7-a23a-3e18792eb847"
      },
      "outputs": [
        {
          "output_type": "execute_result",
          "data": {
            "text/plain": [
              "       publish_date                                      headline_text\n",
              "0          20120305              ute driver hurt in intersection crash\n",
              "1          20081128                       6yo dies in cycling accident\n",
              "2          20090325                      bumper olive harvest expected\n",
              "3          20100201                 replica replaces northernmost sign\n",
              "4          20080225                       woods targets perfect season\n",
              "...             ...                                                ...\n",
              "19995      20030301    judge attacks walkinshaw over running of arrows\n",
              "19996      20070908    polish govt collapses elections to be held next\n",
              "19997      20150529                             the drum friday may 29\n",
              "19998      20071006          winterbottom on bathurst provisional pole\n",
              "19999      20150226  pulled pork and pawpaw salad are a local succe...\n",
              "\n",
              "[20000 rows x 2 columns]"
            ],
            "text/html": [
              "\n",
              "  <div id=\"df-3025bf20-3205-4cb5-95fd-e0e0794b12ea\" class=\"colab-df-container\">\n",
              "    <div>\n",
              "<style scoped>\n",
              "    .dataframe tbody tr th:only-of-type {\n",
              "        vertical-align: middle;\n",
              "    }\n",
              "\n",
              "    .dataframe tbody tr th {\n",
              "        vertical-align: top;\n",
              "    }\n",
              "\n",
              "    .dataframe thead th {\n",
              "        text-align: right;\n",
              "    }\n",
              "</style>\n",
              "<table border=\"1\" class=\"dataframe\">\n",
              "  <thead>\n",
              "    <tr style=\"text-align: right;\">\n",
              "      <th></th>\n",
              "      <th>publish_date</th>\n",
              "      <th>headline_text</th>\n",
              "    </tr>\n",
              "  </thead>\n",
              "  <tbody>\n",
              "    <tr>\n",
              "      <th>0</th>\n",
              "      <td>20120305</td>\n",
              "      <td>ute driver hurt in intersection crash</td>\n",
              "    </tr>\n",
              "    <tr>\n",
              "      <th>1</th>\n",
              "      <td>20081128</td>\n",
              "      <td>6yo dies in cycling accident</td>\n",
              "    </tr>\n",
              "    <tr>\n",
              "      <th>2</th>\n",
              "      <td>20090325</td>\n",
              "      <td>bumper olive harvest expected</td>\n",
              "    </tr>\n",
              "    <tr>\n",
              "      <th>3</th>\n",
              "      <td>20100201</td>\n",
              "      <td>replica replaces northernmost sign</td>\n",
              "    </tr>\n",
              "    <tr>\n",
              "      <th>4</th>\n",
              "      <td>20080225</td>\n",
              "      <td>woods targets perfect season</td>\n",
              "    </tr>\n",
              "    <tr>\n",
              "      <th>...</th>\n",
              "      <td>...</td>\n",
              "      <td>...</td>\n",
              "    </tr>\n",
              "    <tr>\n",
              "      <th>19995</th>\n",
              "      <td>20030301</td>\n",
              "      <td>judge attacks walkinshaw over running of arrows</td>\n",
              "    </tr>\n",
              "    <tr>\n",
              "      <th>19996</th>\n",
              "      <td>20070908</td>\n",
              "      <td>polish govt collapses elections to be held next</td>\n",
              "    </tr>\n",
              "    <tr>\n",
              "      <th>19997</th>\n",
              "      <td>20150529</td>\n",
              "      <td>the drum friday may 29</td>\n",
              "    </tr>\n",
              "    <tr>\n",
              "      <th>19998</th>\n",
              "      <td>20071006</td>\n",
              "      <td>winterbottom on bathurst provisional pole</td>\n",
              "    </tr>\n",
              "    <tr>\n",
              "      <th>19999</th>\n",
              "      <td>20150226</td>\n",
              "      <td>pulled pork and pawpaw salad are a local succe...</td>\n",
              "    </tr>\n",
              "  </tbody>\n",
              "</table>\n",
              "<p>20000 rows × 2 columns</p>\n",
              "</div>\n",
              "    <div class=\"colab-df-buttons\">\n",
              "\n",
              "  <div class=\"colab-df-container\">\n",
              "    <button class=\"colab-df-convert\" onclick=\"convertToInteractive('df-3025bf20-3205-4cb5-95fd-e0e0794b12ea')\"\n",
              "            title=\"Convert this dataframe to an interactive table.\"\n",
              "            style=\"display:none;\">\n",
              "\n",
              "  <svg xmlns=\"http://www.w3.org/2000/svg\" height=\"24px\" viewBox=\"0 -960 960 960\">\n",
              "    <path d=\"M120-120v-720h720v720H120Zm60-500h600v-160H180v160Zm220 220h160v-160H400v160Zm0 220h160v-160H400v160ZM180-400h160v-160H180v160Zm440 0h160v-160H620v160ZM180-180h160v-160H180v160Zm440 0h160v-160H620v160Z\"/>\n",
              "  </svg>\n",
              "    </button>\n",
              "\n",
              "  <style>\n",
              "    .colab-df-container {\n",
              "      display:flex;\n",
              "      gap: 12px;\n",
              "    }\n",
              "\n",
              "    .colab-df-convert {\n",
              "      background-color: #E8F0FE;\n",
              "      border: none;\n",
              "      border-radius: 50%;\n",
              "      cursor: pointer;\n",
              "      display: none;\n",
              "      fill: #1967D2;\n",
              "      height: 32px;\n",
              "      padding: 0 0 0 0;\n",
              "      width: 32px;\n",
              "    }\n",
              "\n",
              "    .colab-df-convert:hover {\n",
              "      background-color: #E2EBFA;\n",
              "      box-shadow: 0px 1px 2px rgba(60, 64, 67, 0.3), 0px 1px 3px 1px rgba(60, 64, 67, 0.15);\n",
              "      fill: #174EA6;\n",
              "    }\n",
              "\n",
              "    .colab-df-buttons div {\n",
              "      margin-bottom: 4px;\n",
              "    }\n",
              "\n",
              "    [theme=dark] .colab-df-convert {\n",
              "      background-color: #3B4455;\n",
              "      fill: #D2E3FC;\n",
              "    }\n",
              "\n",
              "    [theme=dark] .colab-df-convert:hover {\n",
              "      background-color: #434B5C;\n",
              "      box-shadow: 0px 1px 3px 1px rgba(0, 0, 0, 0.15);\n",
              "      filter: drop-shadow(0px 1px 2px rgba(0, 0, 0, 0.3));\n",
              "      fill: #FFFFFF;\n",
              "    }\n",
              "  </style>\n",
              "\n",
              "    <script>\n",
              "      const buttonEl =\n",
              "        document.querySelector('#df-3025bf20-3205-4cb5-95fd-e0e0794b12ea button.colab-df-convert');\n",
              "      buttonEl.style.display =\n",
              "        google.colab.kernel.accessAllowed ? 'block' : 'none';\n",
              "\n",
              "      async function convertToInteractive(key) {\n",
              "        const element = document.querySelector('#df-3025bf20-3205-4cb5-95fd-e0e0794b12ea');\n",
              "        const dataTable =\n",
              "          await google.colab.kernel.invokeFunction('convertToInteractive',\n",
              "                                                    [key], {});\n",
              "        if (!dataTable) return;\n",
              "\n",
              "        const docLinkHtml = 'Like what you see? Visit the ' +\n",
              "          '<a target=\"_blank\" href=https://colab.research.google.com/notebooks/data_table.ipynb>data table notebook</a>'\n",
              "          + ' to learn more about interactive tables.';\n",
              "        element.innerHTML = '';\n",
              "        dataTable['output_type'] = 'display_data';\n",
              "        await google.colab.output.renderOutput(dataTable, element);\n",
              "        const docLink = document.createElement('div');\n",
              "        docLink.innerHTML = docLinkHtml;\n",
              "        element.appendChild(docLink);\n",
              "      }\n",
              "    </script>\n",
              "  </div>\n",
              "\n",
              "\n",
              "<div id=\"df-d8d9109b-b012-41ba-802e-1e1ececa7d4a\">\n",
              "  <button class=\"colab-df-quickchart\" onclick=\"quickchart('df-d8d9109b-b012-41ba-802e-1e1ececa7d4a')\"\n",
              "            title=\"Suggest charts\"\n",
              "            style=\"display:none;\">\n",
              "\n",
              "<svg xmlns=\"http://www.w3.org/2000/svg\" height=\"24px\"viewBox=\"0 0 24 24\"\n",
              "     width=\"24px\">\n",
              "    <g>\n",
              "        <path d=\"M19 3H5c-1.1 0-2 .9-2 2v14c0 1.1.9 2 2 2h14c1.1 0 2-.9 2-2V5c0-1.1-.9-2-2-2zM9 17H7v-7h2v7zm4 0h-2V7h2v10zm4 0h-2v-4h2v4z\"/>\n",
              "    </g>\n",
              "</svg>\n",
              "  </button>\n",
              "\n",
              "<style>\n",
              "  .colab-df-quickchart {\n",
              "      --bg-color: #E8F0FE;\n",
              "      --fill-color: #1967D2;\n",
              "      --hover-bg-color: #E2EBFA;\n",
              "      --hover-fill-color: #174EA6;\n",
              "      --disabled-fill-color: #AAA;\n",
              "      --disabled-bg-color: #DDD;\n",
              "  }\n",
              "\n",
              "  [theme=dark] .colab-df-quickchart {\n",
              "      --bg-color: #3B4455;\n",
              "      --fill-color: #D2E3FC;\n",
              "      --hover-bg-color: #434B5C;\n",
              "      --hover-fill-color: #FFFFFF;\n",
              "      --disabled-bg-color: #3B4455;\n",
              "      --disabled-fill-color: #666;\n",
              "  }\n",
              "\n",
              "  .colab-df-quickchart {\n",
              "    background-color: var(--bg-color);\n",
              "    border: none;\n",
              "    border-radius: 50%;\n",
              "    cursor: pointer;\n",
              "    display: none;\n",
              "    fill: var(--fill-color);\n",
              "    height: 32px;\n",
              "    padding: 0;\n",
              "    width: 32px;\n",
              "  }\n",
              "\n",
              "  .colab-df-quickchart:hover {\n",
              "    background-color: var(--hover-bg-color);\n",
              "    box-shadow: 0 1px 2px rgba(60, 64, 67, 0.3), 0 1px 3px 1px rgba(60, 64, 67, 0.15);\n",
              "    fill: var(--button-hover-fill-color);\n",
              "  }\n",
              "\n",
              "  .colab-df-quickchart-complete:disabled,\n",
              "  .colab-df-quickchart-complete:disabled:hover {\n",
              "    background-color: var(--disabled-bg-color);\n",
              "    fill: var(--disabled-fill-color);\n",
              "    box-shadow: none;\n",
              "  }\n",
              "\n",
              "  .colab-df-spinner {\n",
              "    border: 2px solid var(--fill-color);\n",
              "    border-color: transparent;\n",
              "    border-bottom-color: var(--fill-color);\n",
              "    animation:\n",
              "      spin 1s steps(1) infinite;\n",
              "  }\n",
              "\n",
              "  @keyframes spin {\n",
              "    0% {\n",
              "      border-color: transparent;\n",
              "      border-bottom-color: var(--fill-color);\n",
              "      border-left-color: var(--fill-color);\n",
              "    }\n",
              "    20% {\n",
              "      border-color: transparent;\n",
              "      border-left-color: var(--fill-color);\n",
              "      border-top-color: var(--fill-color);\n",
              "    }\n",
              "    30% {\n",
              "      border-color: transparent;\n",
              "      border-left-color: var(--fill-color);\n",
              "      border-top-color: var(--fill-color);\n",
              "      border-right-color: var(--fill-color);\n",
              "    }\n",
              "    40% {\n",
              "      border-color: transparent;\n",
              "      border-right-color: var(--fill-color);\n",
              "      border-top-color: var(--fill-color);\n",
              "    }\n",
              "    60% {\n",
              "      border-color: transparent;\n",
              "      border-right-color: var(--fill-color);\n",
              "    }\n",
              "    80% {\n",
              "      border-color: transparent;\n",
              "      border-right-color: var(--fill-color);\n",
              "      border-bottom-color: var(--fill-color);\n",
              "    }\n",
              "    90% {\n",
              "      border-color: transparent;\n",
              "      border-bottom-color: var(--fill-color);\n",
              "    }\n",
              "  }\n",
              "</style>\n",
              "\n",
              "  <script>\n",
              "    async function quickchart(key) {\n",
              "      const quickchartButtonEl =\n",
              "        document.querySelector('#' + key + ' button');\n",
              "      quickchartButtonEl.disabled = true;  // To prevent multiple clicks.\n",
              "      quickchartButtonEl.classList.add('colab-df-spinner');\n",
              "      try {\n",
              "        const charts = await google.colab.kernel.invokeFunction(\n",
              "            'suggestCharts', [key], {});\n",
              "      } catch (error) {\n",
              "        console.error('Error during call to suggestCharts:', error);\n",
              "      }\n",
              "      quickchartButtonEl.classList.remove('colab-df-spinner');\n",
              "      quickchartButtonEl.classList.add('colab-df-quickchart-complete');\n",
              "    }\n",
              "    (() => {\n",
              "      let quickchartButtonEl =\n",
              "        document.querySelector('#df-d8d9109b-b012-41ba-802e-1e1ececa7d4a button');\n",
              "      quickchartButtonEl.style.display =\n",
              "        google.colab.kernel.accessAllowed ? 'block' : 'none';\n",
              "    })();\n",
              "  </script>\n",
              "</div>\n",
              "\n",
              "  <div id=\"id_d0f1aae2-f002-4ef9-822a-ef43c9e5d5c9\">\n",
              "    <style>\n",
              "      .colab-df-generate {\n",
              "        background-color: #E8F0FE;\n",
              "        border: none;\n",
              "        border-radius: 50%;\n",
              "        cursor: pointer;\n",
              "        display: none;\n",
              "        fill: #1967D2;\n",
              "        height: 32px;\n",
              "        padding: 0 0 0 0;\n",
              "        width: 32px;\n",
              "      }\n",
              "\n",
              "      .colab-df-generate:hover {\n",
              "        background-color: #E2EBFA;\n",
              "        box-shadow: 0px 1px 2px rgba(60, 64, 67, 0.3), 0px 1px 3px 1px rgba(60, 64, 67, 0.15);\n",
              "        fill: #174EA6;\n",
              "      }\n",
              "\n",
              "      [theme=dark] .colab-df-generate {\n",
              "        background-color: #3B4455;\n",
              "        fill: #D2E3FC;\n",
              "      }\n",
              "\n",
              "      [theme=dark] .colab-df-generate:hover {\n",
              "        background-color: #434B5C;\n",
              "        box-shadow: 0px 1px 3px 1px rgba(0, 0, 0, 0.15);\n",
              "        filter: drop-shadow(0px 1px 2px rgba(0, 0, 0, 0.3));\n",
              "        fill: #FFFFFF;\n",
              "      }\n",
              "    </style>\n",
              "    <button class=\"colab-df-generate\" onclick=\"generateWithVariable('df')\"\n",
              "            title=\"Generate code using this dataframe.\"\n",
              "            style=\"display:none;\">\n",
              "\n",
              "  <svg xmlns=\"http://www.w3.org/2000/svg\" height=\"24px\"viewBox=\"0 0 24 24\"\n",
              "       width=\"24px\">\n",
              "    <path d=\"M7,19H8.4L18.45,9,17,7.55,7,17.6ZM5,21V16.75L18.45,3.32a2,2,0,0,1,2.83,0l1.4,1.43a1.91,1.91,0,0,1,.58,1.4,1.91,1.91,0,0,1-.58,1.4L9.25,21ZM18.45,9,17,7.55Zm-12,3A5.31,5.31,0,0,0,4.9,8.1,5.31,5.31,0,0,0,1,6.5,5.31,5.31,0,0,0,4.9,4.9,5.31,5.31,0,0,0,6.5,1,5.31,5.31,0,0,0,8.1,4.9,5.31,5.31,0,0,0,12,6.5,5.46,5.46,0,0,0,6.5,12Z\"/>\n",
              "  </svg>\n",
              "    </button>\n",
              "    <script>\n",
              "      (() => {\n",
              "      const buttonEl =\n",
              "        document.querySelector('#id_d0f1aae2-f002-4ef9-822a-ef43c9e5d5c9 button.colab-df-generate');\n",
              "      buttonEl.style.display =\n",
              "        google.colab.kernel.accessAllowed ? 'block' : 'none';\n",
              "\n",
              "      buttonEl.onclick = () => {\n",
              "        google.colab.notebook.generateWithVariable('df');\n",
              "      }\n",
              "      })();\n",
              "    </script>\n",
              "  </div>\n",
              "\n",
              "    </div>\n",
              "  </div>\n"
            ],
            "application/vnd.google.colaboratory.intrinsic+json": {
              "type": "dataframe",
              "variable_name": "df",
              "summary": "{\n  \"name\": \"df\",\n  \"rows\": 20000,\n  \"fields\": [\n    {\n      \"column\": \"publish_date\",\n      \"properties\": {\n        \"dtype\": \"number\",\n        \"std\": 38754,\n        \"min\": 20030219,\n        \"max\": 20170721,\n        \"num_unique_values\": 4702,\n        \"samples\": [\n          20060201,\n          20110324,\n          20081126\n        ],\n        \"semantic_type\": \"\",\n        \"description\": \"\"\n      }\n    },\n    {\n      \"column\": \"headline_text\",\n      \"properties\": {\n        \"dtype\": \"string\",\n        \"num_unique_values\": 19802,\n        \"samples\": [\n          \"cash slams inappropriate sexist gibbons tweet\",\n          \"diggers club planning 5m revamp\",\n          \"chameleons rescued in police drug raid\"\n        ],\n        \"semantic_type\": \"\",\n        \"description\": \"\"\n      }\n    }\n  ]\n}"
            }
          },
          "metadata": {},
          "execution_count": 3
        }
      ],
      "source": [
        "# TODO: load the dataset\n",
        "df = pd.read_csv(\"/content/random_headlines.csv\")\n",
        "df"
      ]
    },
    {
      "cell_type": "markdown",
      "metadata": {
        "id": "KKdMYTpH5Rit"
      },
      "source": [
        "This is always a good idea to perform some EDA (exploratory data analytics) on a dataset..."
      ]
    },
    {
      "cell_type": "code",
      "execution_count": 4,
      "metadata": {
        "colab": {
          "base_uri": "https://localhost:8080/"
        },
        "id": "n7LjxSst5Riu",
        "outputId": "9d15b737-53be-423f-cad6-f56e4b18ec7d"
      },
      "outputs": [
        {
          "output_type": "stream",
          "name": "stdout",
          "text": [
            "Shape of the DataFrame: (20000, 2)\n",
            "Data types of each column:\n",
            "publish_date      int64\n",
            "headline_text    object\n",
            "dtype: object\n",
            "Missing values:\n",
            "publish_date     0\n",
            "headline_text    0\n",
            "dtype: int64\n",
            "Descriptive statistics for numerical columns:\n",
            "       publish_date\n",
            "count  2.000000e+04\n",
            "mean   2.009558e+07\n",
            "std    3.875403e+04\n",
            "min    2.003022e+07\n",
            "25%    2.006082e+07\n",
            "50%    2.010022e+07\n",
            "75%    2.013042e+07\n",
            "max    2.017072e+07\n",
            "Value counts for categorical columns:\n",
            "headline_text\n",
            "weather in 90 seconds                                     19\n",
            "abc sport                                                 18\n",
            "abc weather                                               17\n",
            "news in 90 seconds                                        14\n",
            "national rural news                                       12\n",
            "                                                          ..\n",
            "christian protesters occupy zed seselja office             1\n",
            "western nsw minister says health hotline expanded          1\n",
            "govt considers diversion camp for alice youth              1\n",
            "finding the funds for clean green energy                   1\n",
            "pulled pork and pawpaw salad are a local success story     1\n",
            "Name: count, Length: 19802, dtype: int64\n"
          ]
        }
      ],
      "source": [
        "# TODO: Perform a short EDA\n",
        "\n",
        "# Check the shape of the DataFrame\n",
        "print(\"Shape of the DataFrame:\", df.shape)\n",
        "\n",
        "# Check the data types of each column\n",
        "print(\"Data types of each column:\")\n",
        "print(df.dtypes)\n",
        "\n",
        "# Check for missing values\n",
        "print(\"Missing values:\")\n",
        "print(df.isnull().sum())\n",
        "\n",
        "# Display descriptive statistics for numerical columns\n",
        "print(\"Descriptive statistics for numerical columns:\")\n",
        "print(df.describe())\n",
        "\n",
        "# Display value counts for categorical columns\n",
        "print(\"Value counts for categorical columns:\")\n",
        "for column in df.select_dtypes(include=['object']).columns:\n",
        "    print(df[column].value_counts())\n"
      ]
    },
    {
      "cell_type": "markdown",
      "metadata": {
        "id": "ol-BVknV5Riw"
      },
      "source": [
        "Now perform all the needed preprocessing on those headlines: case lowering, tokenization, punctuation removal, stopwords removal, stemming/lemmatization."
      ]
    },
    {
      "cell_type": "code",
      "execution_count": 5,
      "metadata": {
        "colab": {
          "base_uri": "https://localhost:8080/"
        },
        "id": "5hAwqhjU5Riy",
        "outputId": "ffcc8420-db5c-460b-ee6e-7f102e5a3f49"
      },
      "outputs": [
        {
          "output_type": "stream",
          "name": "stdout",
          "text": [
            "0                    [ute, driver, hurt, intersect, crash]\n",
            "1                                  [6yo, die, cycl, accid]\n",
            "2                          [bumper, oliv, harvest, expect]\n",
            "3                    [replica, replac, northernmost, sign]\n",
            "4                          [wood, target, perfect, season]\n",
            "                               ...                        \n",
            "19995               [judg, attack, walkinshaw, run, arrow]\n",
            "19996           [polish, govt, collaps, elect, held, next]\n",
            "19997                              [drum, friday, may, 29]\n",
            "19998            [winterbottom, bathurst, provision, pole]\n",
            "19999    [pull, pork, pawpaw, salad, local, success, st...\n",
            "Name: headline_text, Length: 20000, dtype: object\n"
          ]
        }
      ],
      "source": [
        "# TODO: Preprocess the input data\n",
        "\n",
        "# Lowercase the headlines\n",
        "df['headline_text'] = df['headline_text'].apply(lambda x: x.lower())\n",
        "\n",
        "# Tokenization\n",
        "df['headline_text'] = df['headline_text'].apply(lambda x: word_tokenize(x))\n",
        "\n",
        "# Remove punctuation\n",
        "df['headline_text'] = df['headline_text'].apply(lambda x: [word for word in x if word.isalnum()])\n",
        "\n",
        "# Remove stopwords\n",
        "stop_words = set(stopwords.words('english'))\n",
        "df['headline_text'] = df['headline_text'].apply(lambda x: [word for word in x if word not in stop_words])\n",
        "\n",
        "# Stemming\n",
        "stemmer = PorterStemmer()\n",
        "df['headline_text'] = df['headline_text'].apply(lambda x: [stemmer.stem(word) for word in x])\n",
        "\n",
        "# Lemmatization\n",
        "lemmatizer = WordNetLemmatizer()\n",
        "df['headline_text'] = df['headline_text'].apply(lambda x: [lemmatizer.lemmatize(word) for word in x])\n",
        "\n",
        "print(df['headline_text'])\n"
      ]
    },
    {
      "cell_type": "markdown",
      "metadata": {
        "id": "FFcBkiiK5Ri1"
      },
      "source": [
        "Now use Gensim to compute a BOW"
      ]
    },
    {
      "cell_type": "code",
      "execution_count": 6,
      "metadata": {
        "colab": {
          "base_uri": "https://localhost:8080/"
        },
        "id": "25AOeYyP5Ri2",
        "outputId": "1d133992-cf11-48d2-8c6c-405efb71ed32"
      },
      "outputs": [
        {
          "output_type": "stream",
          "name": "stdout",
          "text": [
            "Bag of Words representation for the first headline:\n",
            "[(0, 1), (1, 1), (2, 1), (3, 1), (4, 1)]\n",
            "\n",
            "TF-IDF representation for the first headline:\n",
            "[0.30725467 0.35289437 0.4212905  ... 0.         0.         0.        ]\n"
          ]
        }
      ],
      "source": [
        "# TODO: Compute the BOW using Gensim\n",
        "from gensim.corpora.dictionary import Dictionary\n",
        "from gensim.models import TfidfModel\n",
        "from gensim.matutils import corpus2dense\n",
        "\n",
        "# Create a dictionary from the preprocessed headlines\n",
        "dictionary = Dictionary(df['headline_text'])\n",
        "\n",
        "# Create a Bag of Words corpus\n",
        "bow_corpus = [dictionary.doc2bow(doc) for doc in df['headline_text']]\n",
        "\n",
        "# Display the BOW representation for the first headline\n",
        "print(\"Bag of Words representation for the first headline:\")\n",
        "print(bow_corpus[0])\n",
        "\n",
        "# Alternatively, you can use TF-IDF representation\n",
        "tfidf_model = TfidfModel(bow_corpus)\n",
        "tfidf_corpus = tfidf_model[bow_corpus]\n",
        "\n",
        "# Convert TF-IDF corpus to dense matrix for easier viewing\n",
        "tfidf_matrix = corpus2dense(tfidf_corpus, num_terms=len(dictionary)).T\n",
        "\n",
        "# Display the TF-IDF representation for the first headline\n",
        "print(\"\\nTF-IDF representation for the first headline:\")\n",
        "print(tfidf_matrix[0])\n"
      ]
    },
    {
      "cell_type": "markdown",
      "metadata": {
        "id": "yWqDMBN35Ri4"
      },
      "source": [
        "Compute the TF-IDF using Gensim"
      ]
    },
    {
      "cell_type": "code",
      "execution_count": 7,
      "metadata": {
        "colab": {
          "base_uri": "https://localhost:8080/"
        },
        "id": "jzsLrwMD5Ri8",
        "outputId": "c07ccabe-1336-4f4b-aa5c-507e06a845dc"
      },
      "outputs": [
        {
          "output_type": "stream",
          "name": "stdout",
          "text": [
            "TF-IDF representation for the first headline:\n",
            "Word: crash, TF-IDF: 0.30725466582280214\n",
            "Word: driver, TF-IDF: 0.3528943781678455\n",
            "Word: hurt, TF-IDF: 0.42129048115131124\n",
            "Word: intersect, TF-IDF: 0.5992666854471201\n",
            "Word: ute, TF-IDF: 0.49442279315598586\n"
          ]
        }
      ],
      "source": [
        "# TODO: Compute TF-IDF\n",
        "from gensim.corpora import Dictionary\n",
        "from gensim.models import TfidfModel\n",
        "\n",
        "# Create a dictionary from the preprocessed headlines\n",
        "dictionary = Dictionary(df['headline_text'])\n",
        "\n",
        "# Create a Bag of Words corpus\n",
        "bow_corpus = [dictionary.doc2bow(doc) for doc in df['headline_text']]\n",
        "\n",
        "# Compute TF-IDF\n",
        "tfidf_model = TfidfModel(bow_corpus)\n",
        "tfidf_corpus = tfidf_model[bow_corpus]\n",
        "\n",
        "# Print TF-IDF representation for the first headline\n",
        "print(\"TF-IDF representation for the first headline:\")\n",
        "for word_id, tfidf_value in tfidf_corpus[0]:\n",
        "    print(f\"Word: {dictionary[word_id]}, TF-IDF: {tfidf_value}\")\n",
        "\n"
      ]
    },
    {
      "cell_type": "markdown",
      "metadata": {
        "id": "iOJKt1CB5Ri-"
      },
      "source": [
        "Finally compute the **LSA** (also called LSI) using Gensim, for a given number of Topics that you choose yourself"
      ]
    },
    {
      "cell_type": "code",
      "execution_count": 8,
      "metadata": {
        "colab": {
          "base_uri": "https://localhost:8080/"
        },
        "id": "J3N9tAGz5Ri-",
        "outputId": "6e9a5d00-2e50-4455-a74e-7758bbfc2c14"
      },
      "outputs": [
        {
          "output_type": "stream",
          "name": "stdout",
          "text": [
            "LSA Topics:\n",
            "(0, '0.455*\"man\" + 0.385*\"polic\" + 0.315*\"charg\" + 0.151*\"court\" + 0.142*\"murder\" + 0.128*\"face\" + 0.111*\"new\" + 0.110*\"crash\" + 0.110*\"woman\" + 0.108*\"miss\"')\n",
            "(1, '0.439*\"second\" + 0.413*\"90\" + 0.341*\"abc\" + 0.298*\"news\" + 0.298*\"weather\" + -0.237*\"man\" + 0.233*\"busi\" + 0.184*\"sport\" + -0.149*\"charg\" + 0.101*\"plan\"')\n",
            "(2, '-0.385*\"man\" + -0.273*\"charg\" + -0.264*\"second\" + -0.253*\"90\" + 0.222*\"plan\" + 0.197*\"council\" + 0.192*\"govt\" + 0.183*\"new\" + -0.168*\"weather\" + -0.164*\"abc\"')\n"
          ]
        }
      ],
      "source": [
        "# TODO: Compute LSA\n",
        "from gensim.models import LsiModel\n",
        "\n",
        "# Choose the number of topics (dimensionality reduction)\n",
        "num_topics = 3\n",
        "\n",
        "# Compute LSA\n",
        "lsa_model = LsiModel(tfidf_corpus, num_topics=num_topics, id2word=dictionary)\n",
        "\n",
        "# Print the topics\n",
        "print(\"LSA Topics:\")\n",
        "lsa_topics = lsa_model.print_topics()\n",
        "for topic in lsa_topics:\n",
        "    print(topic)\n",
        "\n"
      ]
    },
    {
      "cell_type": "markdown",
      "metadata": {
        "id": "-2yfhktG5Ri_"
      },
      "source": [
        "For each of the topic, show the most significant words."
      ]
    },
    {
      "cell_type": "code",
      "execution_count": 26,
      "metadata": {
        "colab": {
          "base_uri": "https://localhost:8080/"
        },
        "id": "qEveXi9V5RjA",
        "outputId": "c0a0e9cd-3584-4fbc-e591-4c21d365f319"
      },
      "outputs": [
        {
          "output_type": "stream",
          "name": "stdout",
          "text": [
            "Topic 0: 0.453*\"man\" + 0.386*\"polic\" + 0.315*\"charg\" + 0.147*\"court\"\n",
            "Topic 1: -0.437*\"second\" + -0.412*\"90\" + -0.342*\"abc\" + -0.298*\"news\"\n",
            "Topic 2: -0.379*\"man\" + -0.280*\"charg\" + -0.263*\"second\" + -0.251*\"90\"\n",
            "Topic 3: 0.774*\"polic\" + -0.239*\"man\" + -0.218*\"charg\" + 0.174*\"investig\"\n"
          ]
        }
      ],
      "source": [
        "# TODO: Print the 3 or 4 most significant words of each topic\n",
        "from gensim import corpora, models\n",
        "\n",
        "# Assuming `dictionary` and `tfidf_corpus` are already defined\n",
        "corpus = tfidf_corpus\n",
        "\n",
        "lsi_model = models.LsiModel(corpus=corpus, num_topics=4, id2word=dictionary)\n",
        "topics = lsi_model.print_topics(num_topics=4, num_words=4)\n",
        "for idx, topic in topics:\n",
        "    print(f\"Topic {idx}: {topic}\")\n",
        "\n",
        "\n",
        "\n",
        "\n"
      ]
    },
    {
      "cell_type": "markdown",
      "metadata": {
        "id": "AL-vYtlp5RjB"
      },
      "source": [
        "What do you think about those results?"
      ]
    },
    {
      "cell_type": "markdown",
      "metadata": {
        "id": "ykIQUIBL5RjC"
      },
      "source": [
        "Now let's try to use LDA instead of LSA using Gensim"
      ]
    },
    {
      "cell_type": "code",
      "execution_count": 27,
      "metadata": {
        "colab": {
          "base_uri": "https://localhost:8080/"
        },
        "id": "-3FKjcMb5RjD",
        "outputId": "b83020d5-d5c0-42ab-be9d-03c12df1aa85"
      },
      "outputs": [
        {
          "output_type": "stream",
          "name": "stdout",
          "text": [
            "Topic 0: 0.004*\"second\" + 0.003*\"interview\" + 0.003*\"plan\" + 0.003*\"new\"\n",
            "Topic 1: 0.003*\"review\" + 0.003*\"nation\" + 0.003*\"rural\" + 0.003*\"countri\"\n",
            "Topic 2: 0.006*\"polic\" + 0.004*\"abc\" + 0.004*\"charg\" + 0.003*\"arrest\"\n",
            "Topic 3: 0.004*\"man\" + 0.004*\"kill\" + 0.003*\"market\" + 0.003*\"crash\"\n"
          ]
        }
      ],
      "source": [
        "# TODO: Compute LDA\n",
        "from gensim.models import LdaModel\n",
        "\n",
        "# Define the number of topics\n",
        "num_topics = 4\n",
        "\n",
        "# Compute LDA\n",
        "lda_model = LdaModel(corpus=corpus, id2word=dictionary, num_topics=num_topics)\n",
        "\n",
        "# Print the topics\n",
        "for idx, topic in lda_model.print_topics(num_topics=num_topics, num_words=4):\n",
        "    print(f\"Topic {idx}: {topic}\")\n",
        "\n"
      ]
    },
    {
      "cell_type": "code",
      "execution_count": 28,
      "metadata": {
        "scrolled": true,
        "colab": {
          "base_uri": "https://localhost:8080/"
        },
        "id": "_4ef5LOr5RjE",
        "outputId": "cb147611-5bae-4a32-fbf7-0311eaebfe57"
      },
      "outputs": [
        {
          "output_type": "stream",
          "name": "stdout",
          "text": [
            "Most frequent words for each topic:\n",
            "Topic 0: second, interview, plan, new\n",
            "Topic 1: review, nation, rural, countri\n",
            "Topic 2: polic, abc, charg, arrest\n",
            "Topic 3: man, kill, market, crash\n"
          ]
        }
      ],
      "source": [
        "# TODO: print the most frequent words of each topic\n",
        "# Print the most frequent words of each topic\n",
        "print(\"Most frequent words for each topic:\")\n",
        "for idx, topic in lda_model.show_topics(num_topics=num_topics, num_words=4, formatted=False):\n",
        "    words = [word for word, _ in topic]\n",
        "    print(f\"Topic {idx}: {', '.join(words)}\")\n"
      ]
    },
    {
      "cell_type": "markdown",
      "metadata": {
        "id": "R9ZOkCLF5RjG"
      },
      "source": [
        "Now, how does it work with LDA?"
      ]
    },
    {
      "cell_type": "code",
      "source": [
        "pip install pyLDAvis\n"
      ],
      "metadata": {
        "colab": {
          "base_uri": "https://localhost:8080/"
        },
        "id": "Uu2w63dNCS6J",
        "outputId": "8de51325-71c9-4870-d79f-40b549d56cbe"
      },
      "execution_count": 30,
      "outputs": [
        {
          "output_type": "stream",
          "name": "stdout",
          "text": [
            "Collecting pyLDAvis\n",
            "  Downloading pyLDAvis-3.4.1-py3-none-any.whl (2.6 MB)\n",
            "\u001b[2K     \u001b[90m━━━━━━━━━━━━━━━━━━━━━━━━━━━━━━━━━━━━━━━━\u001b[0m \u001b[32m2.6/2.6 MB\u001b[0m \u001b[31m8.7 MB/s\u001b[0m eta \u001b[36m0:00:00\u001b[0m\n",
            "\u001b[?25hRequirement already satisfied: numpy>=1.24.2 in /usr/local/lib/python3.10/dist-packages (from pyLDAvis) (1.25.2)\n",
            "Requirement already satisfied: scipy in /usr/local/lib/python3.10/dist-packages (from pyLDAvis) (1.11.4)\n",
            "Requirement already satisfied: pandas>=2.0.0 in /usr/local/lib/python3.10/dist-packages (from pyLDAvis) (2.0.3)\n",
            "Requirement already satisfied: joblib>=1.2.0 in /usr/local/lib/python3.10/dist-packages (from pyLDAvis) (1.4.0)\n",
            "Requirement already satisfied: jinja2 in /usr/local/lib/python3.10/dist-packages (from pyLDAvis) (3.1.3)\n",
            "Requirement already satisfied: numexpr in /usr/local/lib/python3.10/dist-packages (from pyLDAvis) (2.10.0)\n",
            "Collecting funcy (from pyLDAvis)\n",
            "  Downloading funcy-2.0-py2.py3-none-any.whl (30 kB)\n",
            "Requirement already satisfied: scikit-learn>=1.0.0 in /usr/local/lib/python3.10/dist-packages (from pyLDAvis) (1.2.2)\n",
            "Requirement already satisfied: gensim in /usr/local/lib/python3.10/dist-packages (from pyLDAvis) (4.3.2)\n",
            "Requirement already satisfied: setuptools in /usr/local/lib/python3.10/dist-packages (from pyLDAvis) (67.7.2)\n",
            "Requirement already satisfied: python-dateutil>=2.8.2 in /usr/local/lib/python3.10/dist-packages (from pandas>=2.0.0->pyLDAvis) (2.8.2)\n",
            "Requirement already satisfied: pytz>=2020.1 in /usr/local/lib/python3.10/dist-packages (from pandas>=2.0.0->pyLDAvis) (2023.4)\n",
            "Requirement already satisfied: tzdata>=2022.1 in /usr/local/lib/python3.10/dist-packages (from pandas>=2.0.0->pyLDAvis) (2024.1)\n",
            "Requirement already satisfied: threadpoolctl>=2.0.0 in /usr/local/lib/python3.10/dist-packages (from scikit-learn>=1.0.0->pyLDAvis) (3.4.0)\n",
            "Requirement already satisfied: smart-open>=1.8.1 in /usr/local/lib/python3.10/dist-packages (from gensim->pyLDAvis) (6.4.0)\n",
            "Requirement already satisfied: MarkupSafe>=2.0 in /usr/local/lib/python3.10/dist-packages (from jinja2->pyLDAvis) (2.1.5)\n",
            "Requirement already satisfied: six>=1.5 in /usr/local/lib/python3.10/dist-packages (from python-dateutil>=2.8.2->pandas>=2.0.0->pyLDAvis) (1.16.0)\n",
            "Installing collected packages: funcy, pyLDAvis\n",
            "Successfully installed funcy-2.0 pyLDAvis-3.4.1\n"
          ]
        }
      ]
    },
    {
      "cell_type": "markdown",
      "metadata": {
        "id": "P8JkCliS5RjG"
      },
      "source": [
        "Let's make some visualization of the LDA results using pyLDAvis."
      ]
    },
    {
      "cell_type": "code",
      "execution_count": 31,
      "metadata": {
        "colab": {
          "base_uri": "https://localhost:8080/",
          "height": 861
        },
        "id": "jdNugsTy5RjH",
        "outputId": "90f1883b-a386-42a9-8cbd-33611107a8ec"
      },
      "outputs": [
        {
          "output_type": "execute_result",
          "data": {
            "text/plain": [
              "<IPython.core.display.HTML object>"
            ],
            "text/html": [
              "\n",
              "<link rel=\"stylesheet\" type=\"text/css\" href=\"https://cdn.jsdelivr.net/gh/bmabey/pyLDAvis@3.4.0/pyLDAvis/js/ldavis.v1.0.0.css\">\n",
              "\n",
              "\n",
              "<div id=\"ldavis_el3071382002627363846102106240\" style=\"background-color:white;\"></div>\n",
              "<script type=\"text/javascript\">\n",
              "\n",
              "var ldavis_el3071382002627363846102106240_data = {\"mdsDat\": {\"x\": [-0.06455821597334127, 0.0011654985823959859, 0.1644421100396234, -0.101049392648678], \"y\": [0.04460196369652477, -0.17063342830375558, 0.059563861807293415, 0.06646760279993734], \"topics\": [1, 2, 3, 4], \"cluster\": [1, 1, 1, 1], \"Freq\": [27.547739805656697, 24.7675012663925, 23.991069411972212, 23.6936895159786]}, \"tinfo\": {\"Term\": [\"abc\", \"second\", \"90\", \"arrest\", \"countri\", \"park\", \"rural\", \"review\", \"south\", \"weather\", \"region\", \"high\", \"ta\", \"market\", \"found\", \"studi\", \"drug\", \"coal\", \"defenc\", \"big\", \"aid\", \"clash\", \"keep\", \"hour\", \"miner\", \"hunter\", \"aussi\", \"rate\", \"pressur\", \"probe\", \"highway\", \"celebr\", \"collaps\", \"life\", \"poll\", \"level\", \"se\", \"illeg\", \"fail\", \"stock\", \"evid\", \"major\", \"firm\", \"third\", \"econom\", \"risk\", \"front\", \"success\", \"telstra\", \"ad\", \"month\", \"pair\", \"gain\", \"mother\", \"keep\", \"wild\", \"high\", \"access\", \"tri\", \"held\", \"despit\", \"beach\", \"asylum\", \"shortag\", \"stab\", \"drum\", \"aussi\", \"found\", \"bodi\", \"soldier\", \"teen\", \"kill\", \"market\", \"station\", \"rate\", \"rescu\", \"nt\", \"man\", \"crash\", \"murder\", \"injur\", \"indigen\", \"u\", \"accid\", \"close\", \"die\", \"miss\", \"coast\", \"fall\", \"woman\", \"charg\", \"sa\", \"continu\", \"court\", \"polic\", \"say\", \"new\", \"fire\", \"govt\", \"90\", \"second\", \"coal\", \"clash\", \"challeng\", \"peopl\", \"result\", \"newcastl\", \"oil\", \"worri\", \"uni\", \"mental\", \"outback\", \"eye\", \"age\", \"strong\", \"explor\", \"ambul\", \"flu\", \"cat\", \"problem\", \"docker\", \"policeman\", \"traffic\", \"keen\", \"basin\", \"beat\", \"fine\", \"class\", \"africa\", \"mix\", \"hunter\", \"tasmania\", \"caus\", \"possibl\", \"climat\", \"studi\", \"south\", \"region\", \"knight\", \"educ\", \"season\", \"weather\", \"john\", \"propos\", \"resid\", \"approv\", \"respons\", \"west\", \"interview\", \"get\", \"chang\", \"plan\", \"ga\", \"new\", \"health\", \"cup\", \"govt\", \"water\", \"support\", \"home\", \"urg\", \"farmer\", \"call\", \"fund\", \"hit\", \"drought\", \"report\", \"polic\", \"mine\", \"council\", \"plant\", \"cattl\", \"convict\", \"titl\", \"theft\", \"unit\", \"rais\", \"clark\", \"rape\", \"quarter\", \"park\", \"indonesia\", \"good\", \"tree\", \"marin\", \"red\", \"injuri\", \"cross\", \"holiday\", \"discus\", \"updat\", \"robberi\", \"indonesian\", \"scientist\", \"closer\", \"hawk\", \"rock\", \"zealand\", \"await\", \"option\", \"ta\", \"podcast\", \"countri\", \"escap\", \"grain\", \"clear\", \"big\", \"hour\", \"figur\", \"rural\", \"review\", \"step\", \"futur\", \"safeti\", \"nation\", \"look\", \"land\", \"post\", \"concern\", \"wa\", \"council\", \"set\", \"water\", \"hill\", \"call\", \"qld\", \"polic\", \"say\", \"fire\", \"death\", \"new\", \"back\", \"win\", \"abc\", \"defenc\", \"aid\", \"pressur\", \"slam\", \"plane\", \"higher\", \"raid\", \"bulldog\", \"firefight\", \"fiji\", \"edg\", \"kangaroo\", \"money\", \"criticis\", \"teenag\", \"neglect\", \"men\", \"sack\", \"ask\", \"gp\", \"sink\", \"merger\", \"transport\", \"stolen\", \"korea\", \"zimbabw\", \"fix\", \"forest\", \"survivor\", \"suspect\", \"jump\", \"miner\", \"india\", \"lift\", \"hunt\", \"arrest\", \"uk\", \"anoth\", \"control\", \"drug\", \"probe\", \"polic\", \"pakistan\", \"assault\", \"charg\", \"blaze\", \"clean\", \"minist\", \"court\", \"face\", \"man\", \"warn\", \"budget\", \"opposit\", \"new\", \"take\", \"elect\", \"busi\", \"council\", \"attack\"], \"Freq\": [47.0, 48.0, 32.0, 39.0, 32.0, 28.0, 37.0, 38.0, 34.0, 38.0, 31.0, 29.0, 25.0, 55.0, 39.0, 28.0, 40.0, 22.0, 21.0, 26.0, 21.0, 21.0, 25.0, 26.0, 23.0, 24.0, 29.0, 41.0, 20.0, 37.0, 19.498903902035753, 16.20955600630157, 15.3117133626717, 17.310114688749866, 21.46973156520112, 14.543428462494699, 14.199133170799234, 14.214336092908754, 23.129993157550658, 17.46260387312486, 14.221986531534974, 14.0663854968225, 13.718403400689795, 12.676394920553838, 12.862548022379855, 14.801196711275312, 17.128832370914672, 12.467169833470198, 13.913382402857103, 12.29412994403802, 13.797937298183832, 12.99199077501277, 11.602840625477588, 18.820557439098863, 24.547297602657412, 11.404176948332667, 28.10227713176131, 13.318066410124654, 13.684001270567471, 11.904611318206802, 17.254882184539113, 12.956398986777852, 15.536841254262841, 15.848470635253289, 22.429484698437495, 15.216295115986943, 26.427011366867603, 34.04960801826201, 23.195306523643907, 16.17622570419238, 25.750183918465883, 43.89423900666635, 37.42097702033662, 19.086106733362925, 29.47626126982054, 21.665634752847303, 25.24564962898653, 54.4953761442212, 36.160288652365374, 33.997970041904594, 22.784840403444683, 23.5866699713335, 34.10981494016552, 19.79475398717717, 21.258953392228243, 25.0612781750499, 30.738210277892, 25.11306947250059, 24.420941146846435, 29.63781343437549, 33.867567612798986, 24.69289301639427, 25.512629920121114, 27.702262399419986, 32.603614073397, 27.6482593032349, 28.2841840910876, 24.549040920273484, 23.768006235479284, 32.18228779341859, 47.082246316010426, 21.59014284816209, 21.071257692411614, 17.79380130741721, 17.609674386462483, 16.487683229959163, 16.117785431872356, 14.769211675588606, 14.334680106643646, 13.772563243064491, 17.791175827714703, 13.18707361122462, 13.384329207055368, 12.628988779915868, 12.357834290640437, 11.4197594551157, 11.810872967162187, 14.532678546026585, 11.106229697914547, 12.903632846977713, 10.911320058181616, 11.422069673035748, 10.710434484580363, 10.289155397770125, 10.351782725219264, 16.70164770026026, 19.981886557666652, 10.287342961611856, 9.96248292569454, 11.983028874927895, 22.483163328791942, 15.939698262960539, 17.391048636689558, 13.99891354468942, 16.94170359305948, 25.87524736625241, 30.48127306252454, 28.035109666972527, 13.769150247087582, 17.553022992881665, 19.689378507174435, 30.38109384478496, 14.649065027384264, 16.696123599068017, 24.334092057244657, 17.845070276153365, 16.07683203287643, 20.074841558042994, 37.95614013554587, 27.388452867518065, 29.088581802148845, 37.120201182993554, 17.230308523993962, 35.25840549577217, 25.64518284686652, 18.919068889003825, 26.038274722325202, 23.73355537620068, 19.53968149140936, 21.420312474678326, 21.560952415106023, 20.6124471371268, 22.492924956776758, 20.822056655194086, 20.665126487521327, 18.97007875595116, 20.437979735077555, 22.016208298066346, 20.185559709133862, 20.47077589499778, 19.39872191015014, 19.598234344810248, 18.222414290049773, 17.430046820636342, 16.627523964053527, 18.392212264613818, 17.625359370926542, 14.607365982267948, 14.386896161692546, 14.14822601794688, 27.20459337130896, 13.9985731466867, 16.396637886246314, 14.137543945248623, 12.946605347334458, 17.794205355215396, 14.66324286601769, 13.20986156720021, 12.302365092038887, 12.240130891412473, 12.257914564293463, 12.165781687270986, 13.636954077075496, 12.076421945556634, 13.269411649790985, 12.276819607537567, 12.913980516968529, 12.059725025210572, 12.18411800905199, 11.553653176673548, 23.9481857635631, 13.084799717464145, 30.449596877368627, 20.456239689171653, 15.118166873405764, 19.22944938476396, 23.54333026289509, 22.961135046521903, 14.760459618379894, 31.00557650699484, 31.59722980856961, 14.046539856695302, 25.263584108273047, 23.365777894816752, 31.34142878527452, 21.02190118353167, 23.036720601670133, 14.882140048112516, 23.620238713620534, 23.75209802119167, 27.171117931450393, 21.959094809874955, 22.348565158615056, 15.779561498919891, 21.6084310465345, 19.734190919617728, 23.403968777415038, 20.865440963628362, 19.614717376432143, 19.16961617779264, 19.526356606331237, 18.79094906414946, 18.40731552851219, 47.19172756215355, 20.83222796983538, 20.4359195966406, 19.562527103508184, 18.5098281794201, 17.464148933175004, 17.746557569276536, 17.038617747349136, 15.517615100500128, 19.516976732672827, 12.735640701413239, 12.895205585775525, 12.170117676245614, 11.749137253912668, 11.552050243943345, 11.279628378598074, 11.657776433727337, 14.492241514809699, 12.444401606073498, 10.907889488366678, 10.774419148304682, 10.455781453013875, 12.390523838666715, 9.929676806660828, 11.133607113410317, 15.991088646880327, 10.594856301912067, 12.54262337073608, 9.95185613144407, 10.079000946881681, 20.28666139181782, 12.473372887371193, 21.577283315748367, 17.46347126380592, 13.889062051187112, 20.170934999992774, 34.65219460794567, 14.452084415331528, 12.957614661077406, 20.07450692236295, 30.6903050393185, 28.086596757128792, 60.76734249910926, 20.6989310154498, 22.950197500577442, 40.82333760286914, 18.34134003785195, 15.97100154996001, 21.89576349869933, 29.51157060181409, 27.25410130516403, 31.354281824067854, 23.126616205302692, 18.926398256237505, 17.961161416667224, 22.99508973845796, 19.46047253857614, 18.73033202391242, 18.558582522191443, 19.185730724039416, 18.375703369480938], \"Total\": [47.0, 48.0, 32.0, 39.0, 32.0, 28.0, 37.0, 38.0, 34.0, 38.0, 31.0, 29.0, 25.0, 55.0, 39.0, 28.0, 40.0, 22.0, 21.0, 26.0, 21.0, 21.0, 25.0, 26.0, 23.0, 24.0, 29.0, 41.0, 20.0, 37.0, 20.107622726965563, 16.827598983891015, 15.920798536084853, 18.021498447146506, 22.372150429937015, 15.165465840455001, 14.816121602104493, 14.832654350918967, 24.14830806186623, 18.235268924323073, 14.852428615164996, 14.691898551149343, 14.361163468236404, 13.288537824467126, 13.48400967673445, 15.520075812300895, 17.96291743022147, 13.087487204426788, 14.606036010929305, 12.911585277251199, 14.49783643706239, 13.660481466599462, 12.200892212091945, 19.793213698011247, 25.8278284217589, 12.007472751239792, 29.593355783441133, 14.028405831331652, 14.413980233386228, 12.54075346297012, 18.297735743932147, 13.667695145793976, 16.457305145606963, 16.82559281847285, 24.236463784430587, 16.17205601192873, 29.38937522626008, 39.47923469966412, 26.36183078083407, 17.505535241793353, 31.617349193921388, 67.07329472897183, 55.36254794910243, 22.32687959083579, 41.684417504175876, 27.294806609182654, 34.445193122159324, 113.82193258138983, 61.29324157879306, 58.66570939901716, 31.10417432730707, 33.0342701157888, 64.76888964122317, 25.1004431263746, 28.611183997803813, 39.444676619272904, 58.59432675544922, 40.49258902748272, 38.55296095704516, 61.959000759233334, 90.98334236258131, 45.25295384275731, 49.84383221397402, 73.16263276747583, 138.79113364798764, 81.53848612203991, 106.06403593164897, 69.07157443508453, 75.45398253845386, 32.80883236751045, 48.105057455389804, 22.20110132702945, 21.688203062902264, 18.409202794918674, 18.241436887977244, 17.091702890795275, 16.737447957758636, 15.377684201501898, 14.939713450533612, 14.372720519976557, 18.567593266051286, 13.7975086303734, 14.021518792824718, 13.237075586506757, 13.008221993751434, 12.029403429747127, 12.444225347691068, 15.320598490339842, 11.709908008315015, 13.632157736969539, 11.52740830071996, 12.07512925745734, 11.328708191589978, 10.892474743752782, 10.96480090996798, 17.692690834878288, 21.174150313906587, 10.905014586862277, 10.567823300185717, 12.722501268136357, 24.13048284767978, 17.011405468006227, 18.711067267563553, 14.963118072727227, 18.289765463930493, 28.735295387658276, 34.655285422858285, 31.941551306050176, 14.775711323557665, 19.577346736892526, 22.386384546854455, 38.95390824433534, 15.975238527050532, 18.944241427764542, 32.171115030181674, 21.589993428630855, 18.515187116613856, 27.00943413617203, 79.35455566085703, 48.400852107950165, 54.51797297395873, 88.35591874363125, 21.229063248560873, 106.06403593164897, 52.29840312405885, 27.77309970728899, 75.45398253845386, 58.91330988082069, 30.993165308226406, 47.314616407466374, 56.94722731410895, 47.798138220582786, 77.77451548017893, 55.59681982764086, 56.645321842690485, 30.28320493601606, 57.4466179480074, 138.79113364798764, 54.8908864580835, 80.86284185654397, 20.034701433659038, 20.269941510586374, 18.848890202998906, 18.059780142478132, 17.267126189661102, 19.105341164697474, 18.33464433028845, 15.223763987521469, 14.997025295851822, 14.752589373642696, 28.38454698597173, 14.609319068948663, 17.126192795629176, 14.794102907326554, 13.556290837845204, 18.63797751693236, 15.364616781435904, 13.845475550203725, 12.906538874207882, 12.843135262670195, 12.862052644311225, 12.767072610906165, 14.326763282956541, 12.697600715372923, 13.95323688953505, 12.910673969303868, 13.581263807143767, 12.694837784168609, 12.840619314645659, 12.179019884007774, 25.366517530358767, 13.799215513936717, 32.39843410382372, 21.803762467572465, 16.045491203416837, 20.80849979956996, 26.678937092238105, 26.038534664341626, 15.861758342647727, 37.0054340513194, 38.87148080639492, 15.045279098354847, 32.46947027821464, 29.513376972388148, 44.11573392863093, 25.86202247804131, 31.28231103859732, 16.30519677936546, 47.4932763140025, 51.21366698069175, 80.86284185654397, 52.721926579344014, 58.91330988082069, 20.018773540389642, 77.77451548017893, 55.4073720069022, 138.79113364798764, 81.53848612203991, 69.07157443508453, 55.364827508164396, 106.06403593164897, 60.132798945329256, 61.55925852017084, 47.96773404715487, 21.456957752797344, 21.050845733892725, 20.17533152651736, 19.144870243320053, 18.067957590311906, 18.38834127317596, 17.7338963180149, 16.16125472530355, 20.380560221108325, 13.346043266117714, 13.523080401406864, 12.780368275384609, 12.37007840511771, 12.164284544698777, 11.88372171688581, 12.283712797622087, 15.278480247955585, 13.123598222232417, 11.51360961064348, 11.39631874392112, 11.081056935566613, 13.141848940091021, 10.531785613867424, 11.80925455976214, 16.970632858350136, 11.24399700584006, 13.311331140495458, 10.564650547398077, 10.702666871286166, 21.8049194322608, 13.280150145724058, 23.281787002928027, 18.772430964750356, 14.835423810603492, 21.911269064579137, 39.12678765585991, 15.775188600541954, 13.957608471889781, 23.615197047361637, 40.077677809290634, 37.565038373194334, 138.79113364798764, 28.368342787100094, 34.159528146006465, 90.98334236258131, 25.847373165001226, 20.563368280465085, 38.189393547383276, 73.16263276747583, 67.22766252129162, 113.82193258138983, 57.66880904538243, 33.680887486507885, 30.684136030064913, 106.06403593164897, 60.49418091633551, 47.67110348291607, 45.55631372193977, 80.86284185654397, 48.99135882982269], \"Category\": [\"Default\", \"Default\", \"Default\", \"Default\", \"Default\", \"Default\", \"Default\", \"Default\", \"Default\", \"Default\", \"Default\", \"Default\", \"Default\", \"Default\", \"Default\", \"Default\", \"Default\", \"Default\", \"Default\", \"Default\", \"Default\", \"Default\", \"Default\", \"Default\", \"Default\", \"Default\", \"Default\", \"Default\", \"Default\", \"Default\", \"Topic1\", \"Topic1\", \"Topic1\", \"Topic1\", \"Topic1\", \"Topic1\", \"Topic1\", \"Topic1\", \"Topic1\", \"Topic1\", \"Topic1\", \"Topic1\", \"Topic1\", \"Topic1\", \"Topic1\", \"Topic1\", \"Topic1\", \"Topic1\", \"Topic1\", \"Topic1\", \"Topic1\", \"Topic1\", \"Topic1\", \"Topic1\", \"Topic1\", \"Topic1\", \"Topic1\", \"Topic1\", \"Topic1\", \"Topic1\", \"Topic1\", \"Topic1\", \"Topic1\", \"Topic1\", \"Topic1\", \"Topic1\", \"Topic1\", \"Topic1\", \"Topic1\", \"Topic1\", \"Topic1\", \"Topic1\", \"Topic1\", \"Topic1\", \"Topic1\", \"Topic1\", \"Topic1\", \"Topic1\", \"Topic1\", \"Topic1\", \"Topic1\", \"Topic1\", \"Topic1\", \"Topic1\", \"Topic1\", \"Topic1\", \"Topic1\", \"Topic1\", \"Topic1\", \"Topic1\", \"Topic1\", \"Topic1\", \"Topic1\", \"Topic1\", \"Topic1\", \"Topic1\", \"Topic1\", \"Topic1\", \"Topic1\", \"Topic2\", \"Topic2\", \"Topic2\", \"Topic2\", \"Topic2\", \"Topic2\", \"Topic2\", \"Topic2\", \"Topic2\", \"Topic2\", \"Topic2\", \"Topic2\", \"Topic2\", \"Topic2\", \"Topic2\", \"Topic2\", \"Topic2\", \"Topic2\", \"Topic2\", \"Topic2\", \"Topic2\", \"Topic2\", \"Topic2\", \"Topic2\", \"Topic2\", \"Topic2\", \"Topic2\", \"Topic2\", \"Topic2\", \"Topic2\", \"Topic2\", \"Topic2\", \"Topic2\", \"Topic2\", \"Topic2\", \"Topic2\", \"Topic2\", \"Topic2\", \"Topic2\", \"Topic2\", \"Topic2\", \"Topic2\", \"Topic2\", \"Topic2\", \"Topic2\", \"Topic2\", \"Topic2\", \"Topic2\", \"Topic2\", \"Topic2\", \"Topic2\", \"Topic2\", \"Topic2\", \"Topic2\", \"Topic2\", \"Topic2\", \"Topic2\", \"Topic2\", \"Topic2\", \"Topic2\", \"Topic2\", \"Topic2\", \"Topic2\", \"Topic2\", \"Topic2\", \"Topic2\", \"Topic2\", \"Topic2\", \"Topic2\", \"Topic2\", \"Topic2\", \"Topic3\", \"Topic3\", \"Topic3\", \"Topic3\", \"Topic3\", \"Topic3\", \"Topic3\", \"Topic3\", \"Topic3\", \"Topic3\", \"Topic3\", \"Topic3\", \"Topic3\", \"Topic3\", \"Topic3\", \"Topic3\", \"Topic3\", \"Topic3\", \"Topic3\", \"Topic3\", \"Topic3\", \"Topic3\", \"Topic3\", \"Topic3\", \"Topic3\", \"Topic3\", \"Topic3\", \"Topic3\", \"Topic3\", \"Topic3\", \"Topic3\", \"Topic3\", \"Topic3\", \"Topic3\", \"Topic3\", \"Topic3\", \"Topic3\", \"Topic3\", \"Topic3\", \"Topic3\", \"Topic3\", \"Topic3\", \"Topic3\", \"Topic3\", \"Topic3\", \"Topic3\", \"Topic3\", \"Topic3\", \"Topic3\", \"Topic3\", \"Topic3\", \"Topic3\", \"Topic3\", \"Topic3\", \"Topic3\", \"Topic3\", \"Topic3\", \"Topic3\", \"Topic3\", \"Topic3\", \"Topic3\", \"Topic3\", \"Topic3\", \"Topic4\", \"Topic4\", \"Topic4\", \"Topic4\", \"Topic4\", \"Topic4\", \"Topic4\", \"Topic4\", \"Topic4\", \"Topic4\", \"Topic4\", \"Topic4\", \"Topic4\", \"Topic4\", \"Topic4\", \"Topic4\", \"Topic4\", \"Topic4\", \"Topic4\", \"Topic4\", \"Topic4\", \"Topic4\", \"Topic4\", \"Topic4\", \"Topic4\", \"Topic4\", \"Topic4\", \"Topic4\", \"Topic4\", \"Topic4\", \"Topic4\", \"Topic4\", \"Topic4\", \"Topic4\", \"Topic4\", \"Topic4\", \"Topic4\", \"Topic4\", \"Topic4\", \"Topic4\", \"Topic4\", \"Topic4\", \"Topic4\", \"Topic4\", \"Topic4\", \"Topic4\", \"Topic4\", \"Topic4\", \"Topic4\", \"Topic4\", \"Topic4\", \"Topic4\", \"Topic4\", \"Topic4\", \"Topic4\", \"Topic4\", \"Topic4\", \"Topic4\", \"Topic4\", \"Topic4\", \"Topic4\"], \"logprob\": [30.0, 29.0, 28.0, 27.0, 26.0, 25.0, 24.0, 23.0, 22.0, 21.0, 20.0, 19.0, 18.0, 17.0, 16.0, 15.0, 14.0, 13.0, 12.0, 11.0, 10.0, 9.0, 8.0, 7.0, 6.0, 5.0, 4.0, 3.0, 2.0, 1.0, -6.4384, -6.6231, -6.6801, -6.5575, -6.3421, -6.7316, -6.7556, -6.7545, -6.2676, -6.5487, -6.754, -6.765, -6.79, -6.869, -6.8544, -6.714, -6.568, -6.8857, -6.7759, -6.8996, -6.7842, -6.8444, -6.9575, -6.4738, -6.2081, -6.9748, -6.0729, -6.8196, -6.7925, -6.9318, -6.5607, -6.8472, -6.6655, -6.6457, -6.2984, -6.6864, -6.1344, -5.8809, -6.2648, -6.6252, -6.1603, -5.627, -5.7865, -6.4598, -6.0252, -6.333, -6.1801, -5.4106, -5.8208, -5.8824, -6.2827, -6.2481, -5.8792, -6.4233, -6.352, -6.1874, -5.9832, -6.1854, -6.2133, -6.0197, -5.8863, -6.2022, -6.1696, -6.0872, -5.9243, -6.0892, -6.0664, -6.2081, -6.2404, -5.8309, -5.4505, -6.2301, -6.2545, -6.4235, -6.4339, -6.4997, -6.5224, -6.6098, -6.6397, -6.6797, -6.4237, -6.7231, -6.7083, -6.7664, -6.7881, -6.867, -6.8333, -6.626, -6.8949, -6.7449, -6.9126, -6.8668, -6.9311, -6.9713, -6.9652, -6.4869, -6.3075, -6.9714, -7.0035, -6.8189, -6.1896, -6.5335, -6.4464, -6.6634, -6.4726, -6.0491, -5.8852, -5.9689, -6.6799, -6.4371, -6.3223, -5.8885, -6.618, -6.4872, -6.1105, -6.4206, -6.525, -6.3029, -5.6659, -5.9922, -5.932, -5.6882, -6.4557, -5.7397, -6.058, -6.3622, -6.0428, -6.1355, -6.3299, -6.238, -6.2315, -6.2765, -6.1892, -6.2663, -6.2739, -6.3595, -6.285, -6.2106, -6.2974, -6.2834, -6.3053, -6.2951, -6.3679, -6.4123, -6.4595, -6.3586, -6.4012, -6.589, -6.6042, -6.6209, -5.9671, -6.6316, -6.4734, -6.6217, -6.7097, -6.3916, -6.5852, -6.6895, -6.7607, -6.7658, -6.7643, -6.7719, -6.6577, -6.7793, -6.685, -6.7628, -6.7122, -6.7806, -6.7704, -6.8235, -6.0946, -6.6991, -5.8544, -6.2522, -6.5546, -6.3141, -6.1117, -6.1367, -6.5786, -5.8363, -5.8174, -6.6281, -6.0411, -6.1192, -5.8256, -6.2249, -6.1334, -6.5703, -6.1084, -6.1028, -5.9684, -6.1813, -6.1637, -6.5118, -6.1974, -6.2882, -6.1176, -6.2324, -6.2942, -6.3172, -6.2987, -6.3371, -6.3578, -5.4038, -6.2215, -6.2407, -6.2844, -6.3397, -6.3979, -6.3818, -6.4226, -6.5161, -6.2868, -6.7136, -6.7012, -6.7591, -6.7943, -6.8112, -6.835, -6.8021, -6.5844, -6.7368, -6.8686, -6.8809, -6.9109, -6.7411, -6.9625, -6.8481, -6.486, -6.8977, -6.7289, -6.9603, -6.9476, -6.2481, -6.7344, -6.1864, -6.3979, -6.6269, -6.2538, -5.7127, -6.5872, -6.6964, -6.2586, -5.8341, -5.9227, -5.151, -6.228, -6.1247, -5.5488, -6.3489, -6.4873, -6.1717, -5.8733, -5.9528, -5.8127, -6.1171, -6.3175, -6.3698, -6.1228, -6.2897, -6.3279, -6.3371, -6.3039, -6.347], \"loglift\": [30.0, 29.0, 28.0, 27.0, 26.0, 25.0, 24.0, 23.0, 22.0, 21.0, 20.0, 19.0, 18.0, 17.0, 16.0, 15.0, 14.0, 13.0, 12.0, 11.0, 10.0, 9.0, 8.0, 7.0, 6.0, 5.0, 4.0, 3.0, 2.0, 1.0, 1.2585, 1.2518, 1.2502, 1.249, 1.2481, 1.2474, 1.2467, 1.2467, 1.2462, 1.246, 1.2459, 1.2457, 1.2435, 1.2421, 1.2421, 1.2418, 1.2417, 1.2407, 1.2407, 1.2402, 1.2398, 1.2391, 1.239, 1.2389, 1.2384, 1.2377, 1.2376, 1.2373, 1.2373, 1.2372, 1.2306, 1.2358, 1.2317, 1.2294, 1.2118, 1.2283, 1.183, 1.1413, 1.1613, 1.2103, 1.084, 0.8652, 0.8976, 1.1324, 0.9427, 1.0583, 0.9785, 0.5527, 0.7615, 0.7437, 0.978, 0.9524, 0.648, 1.0518, 0.9922, 0.8357, 0.6441, 0.8115, 0.8327, 0.5518, 0.301, 0.6835, 0.6195, 0.3181, -0.1593, 0.2077, -0.0325, 0.2548, 0.1341, 1.3764, 1.3741, 1.3677, 1.3668, 1.3616, 1.3604, 1.3597, 1.3579, 1.3553, 1.3543, 1.353, 1.3529, 1.3504, 1.3491, 1.3486, 1.3443, 1.3436, 1.3434, 1.3428, 1.3427, 1.3407, 1.3407, 1.34, 1.3395, 1.3387, 1.3381, 1.338, 1.3377, 1.3373, 1.3367, 1.3358, 1.3249, 1.3306, 1.3225, 1.329, 1.3191, 1.2908, 1.2673, 1.2652, 1.3251, 1.2865, 1.2673, 1.1471, 1.309, 1.2693, 1.1164, 1.2051, 1.2544, 1.0989, 0.6581, 0.8262, 0.7675, 0.5284, 1.1869, 0.2943, 0.683, 1.0117, 0.3317, 0.4865, 0.9343, 0.6032, 0.4244, 0.5545, 0.155, 0.4135, 0.3873, 0.9279, 0.3622, -0.4456, 0.3953, 0.0219, 1.3952, 1.3938, 1.3937, 1.392, 1.3897, 1.3894, 1.388, 1.3862, 1.386, 1.3857, 1.385, 1.3848, 1.384, 1.3821, 1.3815, 1.3812, 1.3808, 1.3805, 1.3795, 1.3794, 1.3794, 1.3792, 1.3781, 1.3773, 1.3772, 1.3771, 1.3771, 1.3762, 1.375, 1.3748, 1.37, 1.3743, 1.3655, 1.3637, 1.368, 1.3486, 1.3025, 1.3017, 1.3555, 1.2506, 1.2203, 1.3588, 1.1766, 1.1939, 1.0856, 1.2203, 1.1215, 1.3362, 0.729, 0.6592, 0.3369, 0.5516, 0.4582, 1.1895, 0.1468, 0.3951, -0.3526, 0.0645, 0.1686, 0.3669, -0.2648, 0.2643, 0.2202, 1.4237, 1.4104, 1.4103, 1.4091, 1.4062, 1.406, 1.4044, 1.4, 1.3993, 1.3967, 1.3931, 1.3924, 1.391, 1.3885, 1.3883, 1.3878, 1.3877, 1.3871, 1.3868, 1.3859, 1.3838, 1.3819, 1.3811, 1.3811, 1.381, 1.3805, 1.3805, 1.3805, 1.3802, 1.3799, 1.3678, 1.3773, 1.3639, 1.3677, 1.374, 1.3572, 1.3185, 1.3524, 1.3656, 1.2775, 1.1731, 1.1492, 0.614, 1.1248, 1.0422, 0.6385, 1.0969, 1.1872, 0.8837, 0.5321, 0.5371, 0.1507, 0.5262, 0.8636, 0.9044, -0.0888, 0.3058, 0.5058, 0.5419, 0.0014, 0.4593]}, \"token.table\": {\"Topic\": [2, 4, 1, 1, 4, 1, 2, 2, 4, 2, 3, 4, 1, 2, 4, 1, 4, 4, 1, 2, 3, 4, 1, 1, 2, 3, 4, 1, 2, 3, 1, 2, 3, 4, 2, 1, 2, 1, 3, 1, 2, 3, 4, 1, 2, 3, 4, 1, 4, 4, 1, 2, 3, 4, 1, 2, 3, 4, 2, 3, 2, 4, 1, 2, 1, 2, 3, 4, 1, 2, 3, 4, 3, 2, 2, 3, 4, 1, 3, 2, 3, 1, 3, 4, 3, 2, 1, 3, 4, 1, 1, 2, 3, 4, 1, 2, 4, 2, 4, 3, 1, 2, 3, 4, 1, 3, 1, 2, 3, 4, 1, 2, 3, 4, 4, 3, 1, 2, 3, 4, 1, 2, 3, 4, 4, 1, 3, 1, 2, 3, 4, 3, 2, 2, 3, 1, 2, 3, 4, 1, 3, 1, 4, 2, 3, 1, 2, 3, 4, 2, 3, 1, 2, 2, 1, 2, 3, 4, 1, 1, 2, 3, 4, 1, 2, 3, 4, 3, 4, 4, 1, 2, 1, 2, 3, 4, 4, 1, 4, 2, 4, 1, 2, 3, 4, 1, 1, 2, 3, 4, 1, 3, 4, 2, 3, 4, 1, 1, 2, 3, 4, 3, 1, 2, 3, 4, 4, 3, 3, 1, 2, 3, 4, 1, 1, 2, 4, 1, 1, 2, 3, 1, 2, 3, 4, 3, 1, 2, 3, 4, 1, 3, 2, 4, 2, 3, 1, 2, 4, 1, 2, 3, 3, 1, 3, 3, 1, 2, 3, 4, 2, 4, 4, 4, 2, 1, 4, 1, 2, 3, 4, 2, 4, 1, 3, 4, 1, 1, 3, 4, 1, 3, 4, 1, 1, 2, 3, 4, 3, 1, 2, 3, 4, 4, 2, 4, 1, 2, 3, 4, 3, 4, 1, 3, 4, 1, 2, 3, 4, 2, 4, 1, 1, 4, 1, 3, 4, 1, 2, 3, 4, 4, 1, 2, 3, 4, 2, 1, 2, 3, 4, 2, 1, 2, 3, 4, 3, 2, 1, 1, 4, 2, 3, 2, 1, 2, 3, 4, 4, 3, 3, 1, 2, 3, 4, 2, 1, 1, 2, 3, 4, 4, 1, 2, 3, 4, 2, 2, 3, 1, 2, 3, 4, 3, 4, 3, 3, 1, 3, 4, 3, 1, 2, 4, 1, 2, 3, 4, 1, 2, 3, 2, 4, 2, 3, 4, 2, 2, 3, 4, 1, 3, 3, 2, 3, 4, 1, 2, 3, 4, 1, 3, 1, 2, 3, 4, 3, 1, 1, 2, 2, 1, 2, 3, 4, 1, 4, 4, 1, 3, 1, 2, 4, 1, 3, 1, 3, 3, 4, 1, 4, 2, 2, 4, 1, 1, 2, 4, 2, 4, 2, 3, 1, 2, 3, 4, 2, 3, 1, 2, 3, 4, 1, 3, 1, 3, 2, 4, 3, 1, 1, 2, 3, 4, 2, 4, 2, 3, 3, 1, 2, 3, 4, 1, 2, 3, 4, 1, 2, 3, 4, 1, 2, 3, 4, 1, 2, 2, 4, 1, 1, 2, 3, 4, 1, 2, 3, 4, 2, 3, 4], \"Freq\": [0.9753471151167389, 0.979825312444329, 0.9266911833249958, 0.7967986819716643, 0.19919967049291606, 0.9293978812301761, 0.9462686606260972, 0.9820900330320377, 0.9500805930946128, 0.9643026917884052, 0.07164551162285222, 0.9313916510970789, 0.04631775379208236, 0.8337195682574825, 0.13895326137624708, 0.10223175066611766, 0.8945278183285295, 0.9553910868952266, 0.029274409052892858, 0.2634696814760357, 0.058548818105785716, 0.6733114082165357, 0.9722126349629585, 0.4490587835381259, 0.0612352886642899, 0.10205881444048316, 0.3674117319857394, 0.8846734508588125, 0.10207770586832453, 0.9345343636434364, 0.1662985953654289, 0.28270761212122913, 0.3159673311943149, 0.23281803351160046, 0.9120092632880465, 0.9511479339660682, 0.9608487571877558, 0.11244825795075665, 0.8995860636060532, 0.19344325506818916, 0.03868865101363783, 0.07737730202727566, 0.696395718245481, 0.8724735467432622, 0.037933632467098355, 0.07586726493419671, 0.037933632467098355, 0.4156660065922614, 0.5641181518037833, 0.9900221407282768, 0.2634102502946993, 0.30731195867714917, 0.02195085419122494, 0.4170662296332739, 0.23143827883553134, 0.2828690074656494, 0.2828690074656494, 0.19286523236294278, 0.9393754410529168, 0.9866826694864713, 0.9085531977895369, 0.053444305752325706, 0.9508189501851528, 0.9777718351263086, 0.14674059880805385, 0.5319346706791952, 0.275138622765101, 0.05502772455302019, 0.37369477881462365, 0.07693716034418722, 0.09891920615681214, 0.45063193915881083, 0.9853016647062525, 0.9682683226034785, 0.9170093190015, 0.19452066147159094, 0.7780826458863638, 0.04805728474575887, 0.9130884101694186, 0.9294815744644699, 0.05467538673320411, 0.7339787127163963, 0.2097082036332561, 0.03495136727220935, 0.9316834583199846, 0.9909418310349941, 0.6173969262136401, 0.246958770485456, 0.123479385242728, 0.9421637969981316, 0.1895005082508178, 0.14738928419508052, 0.5053346886688475, 0.16844489622294914, 0.5216292336509138, 0.12037597699636474, 0.36112793098909424, 0.12703683962421855, 0.846912264161457, 0.9549633854377355, 0.17313267353176787, 0.24733239075966837, 0.33389872752555233, 0.23496577122168497, 0.06173137854721061, 0.9259706782081591, 0.38270902701094833, 0.0683408976805265, 0.15034997489715826, 0.41004538608315894, 0.5873404485178296, 0.1305200996706288, 0.048945037376485805, 0.24472518688242903, 0.9864945164596324, 0.9389348854694063, 0.07201212760112277, 0.6841152122106663, 0.036006063800561386, 0.2160363828033683, 0.23480611400952978, 0.3070541490893851, 0.3431781666293128, 0.1264340613897468, 0.9787035162178213, 0.9290767031454972, 0.05465157077326454, 0.6337990862824022, 0.12675981725648044, 0.07605589035388827, 0.15211178070777653, 0.9343512899750539, 0.9542474520758477, 0.627410475217012, 0.3632376435466912, 0.1497092727914766, 0.0748546363957383, 0.0249515454652461, 0.7734979094226291, 0.9275258500796555, 0.061835056671977036, 0.9641049147591781, 0.9613194341910113, 0.9194300045817703, 0.10215888939797448, 0.3146560264831202, 0.04195413686441602, 0.23074775275428813, 0.3985643002119522, 0.04586364401498342, 0.9172728802996684, 0.9426067859168413, 0.9144260614619052, 0.9271463521236042, 0.2528720970272608, 0.16362312160587464, 0.17849795084277234, 0.4016203893962378, 0.9524476804368923, 0.6225202787080416, 0.051876689892336805, 0.10375337978467361, 0.20750675956934722, 0.16737053571168276, 0.43934765624316724, 0.2719771205314845, 0.14644921874772243, 0.945670692742134, 0.0630447128494756, 0.9740714712804631, 0.04722739685772553, 0.9445479371545106, 0.36194339284238736, 0.21716603570543241, 0.2895547142739099, 0.14477735713695494, 0.9813272934119752, 0.9748513782302378, 0.9766115697063285, 0.9790740230845427, 0.9465528419643617, 0.8612122362212169, 0.10131908661426081, 0.025329771653565203, 0.025329771653565203, 0.9463941515089624, 0.2877862447816726, 0.3777194462759453, 0.10791984179312722, 0.233826323885109, 0.1847889709499109, 0.7699540456246288, 0.03079816182498515, 0.8007889844669636, 0.04710523438040962, 0.14131570314122888, 0.9835346293861323, 0.10330396640225094, 0.5578414185721551, 0.12396475968270111, 0.20660793280450188, 0.9342414972744791, 0.3180746620997613, 0.34458088394140807, 0.11927799828741048, 0.2253028856539976, 0.9652239681228187, 0.9348420568642858, 0.9294634833573315, 0.2103314698520817, 0.49714711055946587, 0.24857355527973293, 0.05736312814147683, 0.9568803051134976, 0.9461583270548625, 0.03379136882338794, 0.9788811145384574, 0.9449152820298258, 0.14985933049031377, 0.049953110163437925, 0.7992497626150068, 0.3354204616007802, 0.3707278786113886, 0.14122966804243378, 0.158883376547738, 0.9297612719379409, 0.21135117981051565, 0.44383747760208286, 0.21135117981051565, 0.12681070788630938, 0.11521385664256825, 0.8833062342596899, 0.045638616232254625, 0.9127723246450925, 0.9117098956896906, 0.04144135889498594, 0.9438634292137079, 0.05326960593850283, 0.9055833009545481, 0.7265182465323836, 0.27244434244964383, 0.9582924388143634, 0.9771921070724141, 0.7394505881420479, 0.25720020457114706, 0.9762690611407603, 0.1890250644727509, 0.4788634966643023, 0.16382172254305077, 0.17642339350790084, 0.9389531163870147, 0.06259687442580099, 0.9036042415426877, 0.938940079145636, 0.9180650160089058, 0.9679481988094095, 0.03871792795237638, 0.6559987872639051, 0.0894543800814416, 0.029818126693813868, 0.22363595020360402, 0.9475009150780505, 0.9428051466052103, 0.0959008430131164, 0.7352397964338924, 0.15983473835519402, 0.9890893005071029, 0.9433177851363271, 0.06740623070607922, 0.9436872298851091, 0.15466694468293357, 0.8120014595854013, 0.03866673617073339, 0.9529061170181293, 0.47442526036347704, 0.12299914157571627, 0.12299914157571627, 0.2723552420605146, 0.958964377166341, 0.6683218415817126, 0.01806275247518142, 0.01806275247518142, 0.2890040396029027, 0.9163215040235001, 0.9694309726673588, 0.9131135241855007, 0.21861552571506743, 0.36435920952511236, 0.32792328857260117, 0.09108980238127809, 0.042952029407117044, 0.944944646956575, 0.3665939335388916, 0.05237056193412737, 0.5760761812754011, 0.5290614589597111, 0.03413299735223943, 0.17066498676119715, 0.27306397881791544, 0.9432107529086384, 0.9700827761152587, 0.9656613289007927, 0.9599249667025549, 0.05052236666855552, 0.5795549111789929, 0.17045732681735085, 0.2386402575442912, 0.11333824816535627, 0.13600589779842753, 0.7026971386252089, 0.045335299266142506, 0.976903335148229, 0.2639914628370741, 0.3299893285463426, 0.18856533059791006, 0.21685013018759658, 0.95594023894086, 0.7257906759685714, 0.029031627038742853, 0.029031627038742853, 0.23225301630994283, 0.9754394617191442, 0.13036052232595768, 0.03259013058148942, 0.22813091407042596, 0.5866223504668097, 0.9853009613488812, 0.9421990845058947, 0.9516502058719987, 0.24675392752174097, 0.7402617825652229, 0.035230437198600424, 0.9512218043622114, 0.9867643711698845, 0.22635721844544357, 0.4187608541240706, 0.2037214966008992, 0.1584500529118105, 0.940892179706878, 0.9483545368976299, 0.9420825399002184, 0.23776734963270094, 0.15851156642180061, 0.16571663762279157, 0.4395093432604472, 0.9109633334323637, 0.9386670300544336, 0.06683099038178857, 0.93563386534504, 0.9199520988905077, 0.061330139926033846, 0.9913096086531755, 0.026620497231105725, 0.15972298338663435, 0.07986149169331717, 0.7453739224709602, 0.9536274631524276, 0.8973703204122454, 0.10557297887202886, 0.2887702379749548, 0.23462581835465082, 0.3609627974686936, 0.10828883924060807, 0.948985947172956, 0.9586161831075231, 0.9817479780758208, 0.9335184627495695, 0.6957036162756701, 0.023989779871574832, 0.26388757858732315, 0.9657700243305496, 0.09392154974738995, 0.8766011309756395, 0.03130718324912998, 0.24370451212064095, 0.3481493030294871, 0.10444479090884612, 0.295926907575064, 0.8060141372314633, 0.036637006237793784, 0.18318503118896895, 0.7460108229846601, 0.21758649003719255, 0.8641554578534638, 0.05400971611584149, 0.05400971611584149, 0.9361267336689306, 0.051451603039289695, 0.8232256486286351, 0.15435480911786909, 0.9664901242371062, 0.939917893922613, 0.9572010517284834, 0.1351152912587369, 0.8377148058041687, 0.027023058251747376, 0.5524501248441979, 0.17678403995014333, 0.28727406491898294, 0.9143833723643755, 0.20329764383158946, 0.7793076346877597, 0.34339612288229104, 0.24528294491592217, 0.2575470921617183, 0.1594339141953494, 0.945060430626997, 0.9449166506578502, 0.08934001807277196, 0.8934001807277197, 0.977028247884028, 0.18967440396834648, 0.13277208277784253, 0.41728368873036226, 0.26554416555568505, 0.95093231915333, 0.9024409907960341, 0.9924329472344896, 0.9139966175841923, 0.057124788599012016, 0.05771125459208654, 0.8656688188812981, 0.05771125459208654, 0.9077231808929451, 0.04126014458604296, 0.8509921828842876, 0.1343671867712033, 0.9305244461387795, 0.06646603186705569, 0.9322593524971046, 0.9314728499020145, 0.9224934818735613, 0.9048106048412825, 0.06960081575702173, 0.9169063405801116, 0.35491695961368325, 0.6453035629339695, 0.9343465624281619, 0.045861210499153725, 0.9172242099830744, 0.03942204517443892, 0.946129084186534, 0.31407979597702673, 0.24795773366607374, 0.11571360904416773, 0.31407979597702673, 0.940545449351119, 0.058784090584444934, 0.8223333284688725, 0.09488461482333145, 0.06325640988222096, 0.9256359465545113, 0.9585078380968098, 0.9845297829686884, 0.9782867138372543, 0.9413182146118468, 0.9709844947869697, 0.9495066047330843, 0.9463230104386197, 0.9712792562024366, 0.5249433823605364, 0.06175804498359252, 0.13895560121308317, 0.27791120242616635, 0.06339068427781873, 0.8874695798894622, 0.9740675038202743, 0.9421449135522424, 0.932977055206464, 0.24584164427846397, 0.3863225838661577, 0.21072140938154055, 0.15804105703615542, 0.21478641637098844, 0.21478641637098844, 0.46862490844579296, 0.0976301892595402, 0.2080847549765872, 0.3294675287129298, 0.0520211887441468, 0.3988291137051255, 0.03394818597097874, 0.40737823165174486, 0.3734300456807661, 0.18671502284038305, 0.20537092067426527, 0.7701409525284947, 0.7404820071078522, 0.25916870248774826, 0.9160961867570535, 0.24366765228474963, 0.2599121624370663, 0.2924011827416996, 0.1949341218277997, 0.48419115273626007, 0.17753675600329535, 0.12911764072966936, 0.2098161661857127, 0.937099633560907, 0.9452661155674535, 0.9782997980421616], \"Term\": [\"90\", \"abc\", \"access\", \"accid\", \"accid\", \"ad\", \"africa\", \"age\", \"aid\", \"ambul\", \"anoth\", \"anoth\", \"approv\", \"approv\", \"approv\", \"arrest\", \"arrest\", \"ask\", \"assault\", \"assault\", \"assault\", \"assault\", \"asylum\", \"attack\", \"attack\", \"attack\", \"attack\", \"aussi\", \"aussi\", \"await\", \"back\", \"back\", \"back\", \"back\", \"basin\", \"beach\", \"beat\", \"big\", \"big\", \"blaze\", \"blaze\", \"blaze\", \"blaze\", \"bodi\", \"bodi\", \"bodi\", \"bodi\", \"budget\", \"budget\", \"bulldog\", \"busi\", \"busi\", \"busi\", \"busi\", \"call\", \"call\", \"call\", \"call\", \"cat\", \"cattl\", \"caus\", \"caus\", \"celebr\", \"challeng\", \"chang\", \"chang\", \"chang\", \"chang\", \"charg\", \"charg\", \"charg\", \"charg\", \"clark\", \"clash\", \"class\", \"clean\", \"clean\", \"clear\", \"clear\", \"climat\", \"climat\", \"close\", \"close\", \"close\", \"closer\", \"coal\", \"coast\", \"coast\", \"coast\", \"collaps\", \"concern\", \"concern\", \"concern\", \"concern\", \"continu\", \"continu\", \"continu\", \"control\", \"control\", \"convict\", \"council\", \"council\", \"council\", \"council\", \"countri\", \"countri\", \"court\", \"court\", \"court\", \"court\", \"crash\", \"crash\", \"crash\", \"crash\", \"criticis\", \"cross\", \"cup\", \"cup\", \"cup\", \"cup\", \"death\", \"death\", \"death\", \"death\", \"defenc\", \"despit\", \"despit\", \"die\", \"die\", \"die\", \"die\", \"discus\", \"docker\", \"drought\", \"drought\", \"drug\", \"drug\", \"drug\", \"drug\", \"drum\", \"drum\", \"econom\", \"edg\", \"educ\", \"educ\", \"elect\", \"elect\", \"elect\", \"elect\", \"escap\", \"escap\", \"evid\", \"explor\", \"eye\", \"face\", \"face\", \"face\", \"face\", \"fail\", \"fall\", \"fall\", \"fall\", \"fall\", \"farmer\", \"farmer\", \"farmer\", \"farmer\", \"figur\", \"figur\", \"fiji\", \"fine\", \"fine\", \"fire\", \"fire\", \"fire\", \"fire\", \"firefight\", \"firm\", \"fix\", \"flu\", \"forest\", \"found\", \"found\", \"found\", \"found\", \"front\", \"fund\", \"fund\", \"fund\", \"fund\", \"futur\", \"futur\", \"futur\", \"ga\", \"ga\", \"ga\", \"gain\", \"get\", \"get\", \"get\", \"get\", \"good\", \"govt\", \"govt\", \"govt\", \"govt\", \"gp\", \"grain\", \"hawk\", \"health\", \"health\", \"health\", \"health\", \"held\", \"high\", \"high\", \"higher\", \"highway\", \"hill\", \"hill\", \"hill\", \"hit\", \"hit\", \"hit\", \"hit\", \"holiday\", \"home\", \"home\", \"home\", \"home\", \"hour\", \"hour\", \"hunt\", \"hunt\", \"hunter\", \"hunter\", \"illeg\", \"india\", \"india\", \"indigen\", \"indigen\", \"indonesia\", \"indonesian\", \"injur\", \"injur\", \"injuri\", \"interview\", \"interview\", \"interview\", \"interview\", \"john\", \"john\", \"jump\", \"kangaroo\", \"keen\", \"keep\", \"keep\", \"kill\", \"kill\", \"kill\", \"kill\", \"knight\", \"korea\", \"land\", \"land\", \"land\", \"level\", \"life\", \"lift\", \"lift\", \"look\", \"look\", \"look\", \"major\", \"man\", \"man\", \"man\", \"man\", \"marin\", \"market\", \"market\", \"market\", \"market\", \"men\", \"mental\", \"merger\", \"mine\", \"mine\", \"mine\", \"mine\", \"miner\", \"miner\", \"minist\", \"minist\", \"minist\", \"miss\", \"miss\", \"miss\", \"miss\", \"mix\", \"money\", \"month\", \"mother\", \"mother\", \"murder\", \"murder\", \"murder\", \"nation\", \"nation\", \"nation\", \"nation\", \"neglect\", \"new\", \"new\", \"new\", \"new\", \"newcastl\", \"nt\", \"nt\", \"nt\", \"nt\", \"oil\", \"opposit\", \"opposit\", \"opposit\", \"opposit\", \"option\", \"outback\", \"pair\", \"pakistan\", \"pakistan\", \"park\", \"park\", \"peopl\", \"plan\", \"plan\", \"plan\", \"plan\", \"plane\", \"plant\", \"podcast\", \"polic\", \"polic\", \"polic\", \"polic\", \"policeman\", \"poll\", \"possibl\", \"possibl\", \"post\", \"post\", \"pressur\", \"probe\", \"probe\", \"probe\", \"probe\", \"problem\", \"propos\", \"propos\", \"qld\", \"qld\", \"qld\", \"qld\", \"quarter\", \"raid\", \"rais\", \"rape\", \"rate\", \"rate\", \"rate\", \"red\", \"region\", \"region\", \"region\", \"report\", \"report\", \"report\", \"report\", \"rescu\", \"rescu\", \"rescu\", \"resid\", \"resid\", \"respons\", \"respons\", \"respons\", \"result\", \"review\", \"review\", \"review\", \"risk\", \"robberi\", \"rock\", \"rural\", \"rural\", \"rural\", \"sa\", \"sa\", \"sa\", \"sack\", \"safeti\", \"safeti\", \"say\", \"say\", \"say\", \"say\", \"scientist\", \"se\", \"season\", \"season\", \"second\", \"set\", \"set\", \"set\", \"set\", \"shortag\", \"sink\", \"slam\", \"soldier\", \"soldier\", \"south\", \"south\", \"south\", \"stab\", \"stab\", \"station\", \"station\", \"step\", \"step\", \"stock\", \"stolen\", \"strong\", \"studi\", \"studi\", \"success\", \"support\", \"support\", \"survivor\", \"suspect\", \"suspect\", \"ta\", \"ta\", \"take\", \"take\", \"take\", \"take\", \"tasmania\", \"tasmania\", \"teen\", \"teen\", \"teen\", \"teenag\", \"telstra\", \"theft\", \"third\", \"titl\", \"traffic\", \"transport\", \"tree\", \"tri\", \"u\", \"u\", \"u\", \"u\", \"uk\", \"uk\", \"uni\", \"unit\", \"updat\", \"urg\", \"urg\", \"urg\", \"urg\", \"wa\", \"wa\", \"wa\", \"wa\", \"warn\", \"warn\", \"warn\", \"warn\", \"water\", \"water\", \"water\", \"water\", \"weather\", \"weather\", \"west\", \"west\", \"wild\", \"win\", \"win\", \"win\", \"win\", \"woman\", \"woman\", \"woman\", \"woman\", \"worri\", \"zealand\", \"zimbabw\"]}, \"R\": 30, \"lambda.step\": 0.01, \"plot.opts\": {\"xlab\": \"PC1\", \"ylab\": \"PC2\"}, \"topic.order\": [4, 1, 2, 3]};\n",
              "\n",
              "function LDAvis_load_lib(url, callback){\n",
              "  var s = document.createElement('script');\n",
              "  s.src = url;\n",
              "  s.async = true;\n",
              "  s.onreadystatechange = s.onload = callback;\n",
              "  s.onerror = function(){console.warn(\"failed to load library \" + url);};\n",
              "  document.getElementsByTagName(\"head\")[0].appendChild(s);\n",
              "}\n",
              "\n",
              "if(typeof(LDAvis) !== \"undefined\"){\n",
              "   // already loaded: just create the visualization\n",
              "   !function(LDAvis){\n",
              "       new LDAvis(\"#\" + \"ldavis_el3071382002627363846102106240\", ldavis_el3071382002627363846102106240_data);\n",
              "   }(LDAvis);\n",
              "}else if(typeof define === \"function\" && define.amd){\n",
              "   // require.js is available: use it to load d3/LDAvis\n",
              "   require.config({paths: {d3: \"https://d3js.org/d3.v5\"}});\n",
              "   require([\"d3\"], function(d3){\n",
              "      window.d3 = d3;\n",
              "      LDAvis_load_lib(\"https://cdn.jsdelivr.net/gh/bmabey/pyLDAvis@3.4.0/pyLDAvis/js/ldavis.v3.0.0.js\", function(){\n",
              "        new LDAvis(\"#\" + \"ldavis_el3071382002627363846102106240\", ldavis_el3071382002627363846102106240_data);\n",
              "      });\n",
              "    });\n",
              "}else{\n",
              "    // require.js not available: dynamically load d3 & LDAvis\n",
              "    LDAvis_load_lib(\"https://d3js.org/d3.v5.js\", function(){\n",
              "         LDAvis_load_lib(\"https://cdn.jsdelivr.net/gh/bmabey/pyLDAvis@3.4.0/pyLDAvis/js/ldavis.v3.0.0.js\", function(){\n",
              "                 new LDAvis(\"#\" + \"ldavis_el3071382002627363846102106240\", ldavis_el3071382002627363846102106240_data);\n",
              "            })\n",
              "         });\n",
              "}\n",
              "</script>"
            ]
          },
          "metadata": {},
          "execution_count": 31
        }
      ],
      "source": [
        "# TODO: show visualization results of the LDA\n",
        "import pyLDAvis\n",
        "import pyLDAvis.gensim_models as gensimvis\n",
        "\n",
        "# Create the visualization\n",
        "lda_vis = gensimvis.prepare(lda_model, corpus, dictionary)\n",
        "\n",
        "# Display the visualization\n",
        "pyLDAvis.display(lda_vis)\n"
      ]
    },
    {
      "cell_type": "markdown",
      "metadata": {
        "id": "3eeFhLC55RjI"
      },
      "source": [
        "Depending on your results, you can try to fine tune the algorithm: number of topics, hyperparameters...\n",
        "And check with others their results."
      ]
    }
  ],
  "metadata": {
    "kernelspec": {
      "display_name": "Python 3",
      "language": "python",
      "name": "python3"
    },
    "language_info": {
      "codemirror_mode": {
        "name": "ipython",
        "version": 3
      },
      "file_extension": ".py",
      "mimetype": "text/x-python",
      "name": "python",
      "nbconvert_exporter": "python",
      "pygments_lexer": "ipython3",
      "version": "3.7.4"
    },
    "toc": {
      "base_numbering": 1,
      "nav_menu": {},
      "number_sections": true,
      "sideBar": true,
      "skip_h1_title": false,
      "title_cell": "Table of Contents",
      "title_sidebar": "Contents",
      "toc_cell": false,
      "toc_position": {},
      "toc_section_display": true,
      "toc_window_display": false
    },
    "colab": {
      "provenance": []
    }
  },
  "nbformat": 4,
  "nbformat_minor": 0
}